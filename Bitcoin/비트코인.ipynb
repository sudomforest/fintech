{
  "nbformat": 4,
  "nbformat_minor": 0,
  "metadata": {
    "colab": {
      "name": "Untitled0.ipynb의 사본",
      "provenance": [],
      "collapsed_sections": []
    },
    "kernelspec": {
      "name": "python3",
      "display_name": "Python 3"
    },
    "language_info": {
      "name": "python"
    }
  },
  "cells": [
    {
      "cell_type": "code",
      "metadata": {
        "id": "Dhn8t6k4gSXc"
      },
      "source": [
        "from sklearn.preprocessing import MinMaxScaler\n",
        "from keras.models import Model\n",
        "from keras.layers import Input, Dense, LSTM, Bidirectional\n",
        "from keras import backend as K\n",
        "\n",
        "import numpy as np\n",
        "import pandas as pd\n",
        "import matplotlib.pyplot as plt"
      ],
      "execution_count": 59,
      "outputs": []
    },
    {
      "cell_type": "code",
      "source": [
        "all_data = pd.read_csv(\"./2022.csv\")\n",
        "all_data[\"Timestamp\"]=pd.to_datetime(all_data[\"Timestamp\"],format=\"%Y-%m-%d\") \n",
        "all_data.index=all_data['Timestamp'] \n",
        "all_data"
      ],
      "metadata": {
        "id": "dmtO_JVl13eP"
      },
      "execution_count": null,
      "outputs": []
    },
    {
      "cell_type": "code",
      "source": [
        "data = []"
      ],
      "metadata": {
        "id": "a7BKTk-a1a-B"
      },
      "execution_count": 48,
      "outputs": []
    },
    {
      "cell_type": "code",
      "metadata": {
        "id": "vMXSBcaj4Bga"
      },
      "source": [
        "def generateX(a, n):\n",
        "     x_train = []\n",
        "     y_train = []\n",
        "     for i in range(len(a)):\n",
        "         x = a[i:(i + n)]\n",
        "         if (i + n) < len(a):\n",
        "             x_train.append(x)\n",
        "             y_train.append(a[i + n])\n",
        "         else:\n",
        "             break\n",
        "     return np.array(x_train), np.array(y_train)"
      ],
      "execution_count": 65,
      "outputs": []
    },
    {
      "cell_type": "code",
      "metadata": {
        "colab": {
          "base_uri": "https://localhost:8080/"
        },
        "id": "ALw13NSs6Hk2",
        "outputId": "4e0aaf07-564e-4211-bd6c-701c4e1095f1"
      },
      "source": [
        "def ts_train_test(all_data, time_steps, for_periods): \n",
        "\n",
        "    ts_train = all_data[:'2021'].iloc[:,0:1].values\n",
        "    ts_test = all_data['2022':].iloc[:,0:1].values\n",
        "    ts_train_len = len(ts_train)\n",
        "    ts_test_len = len(ts_test)\n",
        "    \n",
        "    X_train = [] \n",
        "    y_train = [] \n",
        "    y_train_stacked = [] \n",
        "    for i in range(time_steps, ts_train_len - 1): \n",
        "        X_train.append(ts_train[i-time_steps:i,0])\n",
        "        y_train.append(ts_train[i:i+for_periods,0])\n",
        "    X_train, y_train = np.array(X_train), np.array(y_train)\n",
        "    \n",
        "\n",
        "    X_train = np.reshape(X_train, (X_train.shape[0], X_train.shape[1],1))\n",
        "    \n",
        "\n",
        "    inputs = pd.concat((all_data[\"hash_rate\"][:'2021'], all_data[\"hash_rate\"]['2022':]), axis=0).values\n",
        "    inputs = inputs[len(inputs)-len(ts_test) - time_steps:]\n",
        "    inputs = inputs.reshape(-1,1)\n",
        "    \n",
        "    X_test = []\n",
        "    for i in range(time_steps, ts_test_len+ time_steps- for_periods):\n",
        "        X_test.append(inputs[i-time_steps:i,0])\n",
        "    X_test = np.array(X_test)\n",
        "    X_test = np.reshape(X_test, (X_test.shape[0], X_test.shape[1],1))\n",
        "    \n",
        "    return X_train, y_train, X_test \n",
        "\n",
        "X_train, y_train, X_test = ts_train_test(all_data,5,2)\n",
        "X_train.shape[0], X_train.shape[1]"
      ],
      "execution_count": 66,
      "outputs": [
        {
          "output_type": "execute_result",
          "data": {
            "text/plain": [
              "(32, 5)"
            ]
          },
          "metadata": {},
          "execution_count": 66
        }
      ]
    },
    {
      "cell_type": "code",
      "metadata": {
        "colab": {
          "base_uri": "https://localhost:8080/"
        },
        "id": "gjVO0xW47l12",
        "outputId": "4dad9e94-7e00-4f56-f460-f394cd4f96d8"
      },
      "source": [
        "\n",
        "X_train_see = pd.DataFrame(np.reshape(X_train, (X_train.shape[0], X_train.shape[1])))\n",
        "y_train_see = pd.DataFrame(y_train)\n",
        "pd.concat([X_train_see, y_train_see], axis = 1)\n",
        "\n",
        "X_test_see = pd.DataFrame(np.reshape(X_test, (X_test.shape[0], X_test.shape[1])))\n",
        "pd.DataFrame(X_test_see)\n",
        "\n",
        "print(\"There are \" + str(X_train.shape[0]) + \" samples in the training data\")\n",
        "print(\"There are \" + str(X_test.shape[0]) + \" samples in the test data\")"
      ],
      "execution_count": 67,
      "outputs": [
        {
          "output_type": "stream",
          "name": "stdout",
          "text": [
            "There are 32 samples in the training data\n",
            "There are 10 samples in the test data\n"
          ]
        }
      ]
    },
    {
      "cell_type": "code",
      "metadata": {
        "id": "8OznqR8k4hyD"
      },
      "source": [
        "x= X_train_see\n",
        "y= y_train_see"
      ],
      "execution_count": 68,
      "outputs": []
    },
    {
      "cell_type": "code",
      "metadata": {
        "id": "o6HLT7Jg4zoi"
      },
      "source": [
        "x, y = generateX(data, 38)\n",
        "x = x.reshape(-1,10,1)\n",
        "y = y.reshape(-1,1)\n",
        "\n",
        "\n",
        "x_train = x[:32 :, :]\n",
        "y_train = y[:32:, :]\n",
        "x_test = x[32:, :, :]\n",
        "y_test = y[32:, :]"
      ],
      "execution_count": 69,
      "outputs": []
    },
    {
      "cell_type": "code",
      "metadata": {
        "id": "Kxi8lCLW48JU"
      },
      "source": [
        "K.clear_session()    \n",
        "xInput = Input(batch_shape=(None, x_train.shape[1], x_train.shape[2]))\n",
        "xLstm_1 = LSTM(10, return_sequences = True)(xInput)\n",
        "xLstm_2 = Bidirectional(LSTM(10))(xLstm_1)\n",
        "xOutput = Dense(1)(xLstm_2)\n",
        "\n",
        "\n",
        "model = Model(xInput, xOutput)\n",
        "model.compile(loss='mse', optimizer='adam')\n",
        "\n",
        "\n",
        "model.fit(x_train, y_train, epochs=500, batch_size=20,verbose=1)\n",
        "\n",
        "y_hat = model.predict(x_test, batch_size=1)\n",
        "\n",
        "\n",
        "a_axis = np.arange(0, len(y_train))\n",
        "b_axis = np.arange(len(y_train), len(y_train) + len(y_hat))\n",
        "\n",
        "plt.figure(figsize=(10,6))\n",
        "plt.plot(a_axis, y_train.reshape(32,), 'o-')\n",
        "plt.plot(b_axis, y_hat.reshape(10,), 'o-', color='red', label='Predicted')\n",
        "plt.plot(b_axis, y_test.reshape(10,), 'o-', color='green', alpha=0.2, label='Actual')\n",
        "plt.legend()\n",
        "plt.show()\n",
        "\n"
      ],
      "execution_count": null,
      "outputs": []
    },
    {
      "cell_type": "code",
      "metadata": {
        "id": "y96wjhyy-s3S"
      },
      "source": [
        "def generateX(a, n):\n",
        "     x_train = []\n",
        "     y_train = []\n",
        "     for i in range(len(a)):\n",
        "         x = a[i:(i + n)]\n",
        "         if (i + n) < len(a):\n",
        "             x_train.append(x)\n",
        "             y_train.append(a[i + n])\n",
        "         else:\n",
        "             break\n",
        "     return np.array(x_train), np.array(y_train)\n",
        "\n",
        "\n",
        " x, y = generateX(data, 38)\n",
        " x = x.reshape(-1,10,1)\n",
        " y = y.reshape(-1,1)\n",
        "\n",
        " x_train = x[:70, :, :]\n",
        " y_train = y[:70:, :]\n",
        " x_test = x[70:, :, :]\n",
        " y_test = y[70:, :]\n",
        "\n",
        "\n",
        " K.clear_session()   \n",
        " xInput = Input(batch_shape=(None, x_train.shape[1], x_train.shape[2]))\n",
        " xLstm_1 = LSTM(10, return_sequences = True)(xInput)\n",
        " xLstm_2 = Bidirectional(LSTM(10))(xLstm_1)\n",
        " xOutput = Dense(1)(xLstm_2)\n",
        "\n",
        "\n",
        " model = Model(xInput, xOutput)\n",
        " model.compile(loss='mse', optimizer='adam')\n",
        "\n",
        "\n",
        "\n",
        "\n",
        " model.fit(x_train, y_train, epochs=500, batch_size=20,verbose=1)\n",
        "\n",
        "\n",
        "\n",
        " y_hat = model.predict(x_test, batch_size=1)\n",
        "\n",
        " a_axis = np.arange(0, len(y_train))\n",
        " b_axis = np.arange(len(y_train), len(y_train) + len(y_hat))\n",
        "\n",
        " plt.figure(figsize=(10,6))\n",
        " plt.plot(a_axis, y_train.reshape(70,), 'o-')\n",
        " plt.plot(b_axis, y_hat.reshape(20,), 'o-', color='red', label='Predicted')\n",
        " plt.plot(b_axis, y_test.reshape(20,), 'o-', color='green', alpha=0.2, label='Actual')\n",
        " plt.legend()\n",
        " plt.show()"
      ],
      "execution_count": null,
      "outputs": []
    },
    {
      "cell_type": "code",
      "metadata": {
        "id": "FRRtlj5WEEo9"
      },
      "source": [
        "train = df.loc[:36, ['hash_rate']]\n",
        "test = df.loc[36:, ['hash_rate']]\n",
        "# Feature는 Unadjusted 한 개\n",
        "\n",
        "ax = train.plot()\n",
        "test.plot(ax=ax)\n",
        "plt.legend(['train', 'test'])\n",
        "\n"
      ],
      "execution_count": null,
      "outputs": []
    },
    {
      "cell_type": "code",
      "metadata": {
        "id": "2EniODoNErJ_"
      },
      "source": [
        "from sklearn.preprocessing import MinMaxScaler\n",
        "sc = MinMaxScaler()\n",
        "\n",
        "train_sc = sc.fit_transform(train)\n",
        "test_sc = sc.transform(test)\n",
        "\n",
        "train_sc"
      ],
      "execution_count": null,
      "outputs": []
    },
    {
      "cell_type": "code",
      "metadata": {
        "id": "Ysqn1PnQEwLW"
      },
      "source": [
        "train_sc_df = pd.DataFrame(train_sc, columns=['hash_rate'], index=train.index)\n",
        "test_sc_df = pd.DataFrame(test_sc, columns=['hash_rate'], index=test.index)\n",
        "train_sc_df.head()"
      ],
      "execution_count": null,
      "outputs": []
    },
    {
      "cell_type": "code",
      "metadata": {
        "id": "-JDH3bpPE4-S"
      },
      "source": [
        "for s in range(1, 13):\n",
        "    train_sc_df['shift_{}'.format(s)] = train_sc_df['hash_rate'].shift(s)\n",
        "    test_sc_df['shift_{}'.format(s)] = test_sc_df['hash_rate'].shift(s)\n",
        "\n",
        "train_sc_df.head(13)"
      ],
      "execution_count": null,
      "outputs": []
    },
    {
      "cell_type": "code",
      "metadata": {
        "id": "GKRAVj8rFF2a"
      },
      "source": [
        "X_train = train_sc_df.dropna().drop('hash_rate', axis=1)\n",
        "y_train = train_sc_df.dropna()[['hash_rate']]\n",
        "\n",
        "X_test = test_sc_df.dropna().drop('hash_rate', axis=1)\n",
        "y_test = test_sc_df.dropna()[['hash_rate']]"
      ],
      "execution_count": null,
      "outputs": []
    },
    {
      "cell_type": "code",
      "metadata": {
        "id": "lLuymDLuFJ6C"
      },
      "source": [
        "X_train = X_train.values\n",
        "X_test= X_test.values\n",
        "\n",
        "y_train = y_train.values\n",
        "y_test = y_test.values"
      ],
      "execution_count": null,
      "outputs": []
    },
    {
      "cell_type": "code",
      "metadata": {
        "id": "BC5qgOeEFaUQ"
      },
      "source": [
        "X_train_t = X_train.reshape(X_train.shape[0], 12, 1) \n",
        "X_test_t = X_test.reshape(X_test.shape[0], 12, 1)"
      ],
      "execution_count": null,
      "outputs": []
    },
    {
      "cell_type": "code",
      "metadata": {
        "id": "p_I8uuYrGhvD"
      },
      "source": [
        "from keras.layers import LSTM \n",
        "from keras.models import Sequential \n",
        "from keras.layers import Dense \n",
        "import keras.backend as K \n",
        "from keras.callbacks import EarlyStopping \n",
        "K.clear_session() \n",
        "model = Sequential() \n",
        "model.add(LSTM(20, input_shape=(36, 1))) # (timestep, feature) \n",
        "model.add(Dense(1)) # output = 1 \n",
        "model.compile(loss='mean_squared_error', optimizer='adam') \n",
        "model.summary()\n"
      ],
      "execution_count": null,
      "outputs": []
    },
    {
      "cell_type": "code",
      "metadata": {
        "id": "nFRPwbYiG3Q6"
      },
      "source": [
        "early_stop = EarlyStopping(monitor='loss', patience=1, verbose=1)\n",
        "\n",
        "model.fit(X_train_t, y_train, epochs=100,\n",
        "          batch_size=30, verbose=1, callbacks=[early_stop])"
      ],
      "execution_count": null,
      "outputs": []
    },
    {
      "cell_type": "code",
      "metadata": {
        "id": "acXsQ0UZHImq"
      },
      "source": [
        "X_test_t"
      ],
      "execution_count": null,
      "outputs": []
    },
    {
      "cell_type": "code",
      "metadata": {
        "id": "HVKmJHVjG-sM"
      },
      "source": [
        "y_pred = model.predict(X_test_t)\n",
        "print(y_pred)"
      ],
      "execution_count": null,
      "outputs": []
    },
    {
      "cell_type": "code",
      "metadata": {
        "id": "_io_RqDeHgDX"
      },
      "source": [
        "y_pred = model.predict(X_test_t)\n",
        "y_pred = sc.inverse_transform(y_pred)\n",
        "y_pred_df = pd.DataFrame(y_pred, columns=['prediction'], index=test.index[:-12])\n",
        "\n",
        "y_pred_df.plot(ax=ax)\n",
        "plt.show()"
      ],
      "execution_count": null,
      "outputs": []
    }
  ]
}