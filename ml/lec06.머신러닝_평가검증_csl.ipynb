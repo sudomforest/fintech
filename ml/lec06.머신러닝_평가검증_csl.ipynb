{
 "cells": [
  {
   "cell_type": "markdown",
   "id": "f13ca040-a68e-448d-aa54-4206df960947",
   "metadata": {
    "tags": []
   },
   "source": [
    "<font size=6><b> lec04. 평가 검증"
   ]
  },
  {
   "cell_type": "code",
   "execution_count": 1,
   "id": "cf25dbde-a6a4-4423-b260-05f285a38d20",
   "metadata": {},
   "outputs": [],
   "source": [
    "import numpy as np\n",
    "import pandas as pd\n",
    "import seaborn as sns\n",
    "import matplotlib.pyplot as plt\n",
    "\n",
    "import warnings\n",
    "warnings.filterwarnings(action=\"ignore\")\n",
    "\n",
    "\n",
    "from sklearn.model_selection import train_test_split\n",
    "from sklearn.linear_model import LogisticRegression\n",
    "from sklearn.metrics import f1_score, accuracy_score, precision_score, recall_score, classification_report, confusion_matrix\n",
    "from sklearn.model_selection import KFold, StratifiedKFold, cross_val_score, GridSearchCV"
   ]
  },
  {
   "cell_type": "markdown",
   "id": "1a2c46ae-7b24-4e49-97c8-daa33066b7a0",
   "metadata": {},
   "source": [
    "# Glass Data Load"
   ]
  },
  {
   "cell_type": "markdown",
   "id": "f68784ac-cdd0-4d0a-9489-2e99c84b07e5",
   "metadata": {},
   "source": [
    "* ref : https://archive.ics.uci.edu/ml/datasets/glass+identification\n"
   ]
  },
  {
   "cell_type": "markdown",
   "id": "987db07c-fddb-4ff1-87f5-adfc90a0eba9",
   "metadata": {},
   "source": [
    "Attribute Information:\n",
    "<pre>\n",
    "1. Id number: 1 to 214\n",
    "2. RI: refractive index\n",
    "3. Na: Sodium (unit measurement: weight percent in corresponding oxide, as are attributes 4-10)\n",
    "4. Mg: Magnesium\n",
    "5. Al: Aluminum\n",
    "6. Si: Silicon\n",
    "7. K: Potassium\n",
    "8. Ca: Calcium\n",
    "9. Ba: Barium\n",
    "10. Fe: Iron\n",
    "11. Type of glass: (class attribute)\n",
    "-- 1 building_windows_float_processed\n",
    "-- 2 building_windows_non_float_processed\n",
    "-- 3 vehicle_windows_float_processed\n",
    "-- 4 vehicle_windows_non_float_processed (none in this database)\n",
    "-- 5 containers\n",
    "-- 6 tableware\n",
    "-- 7 headlamps\n",
    "\n"
   ]
  },
  {
   "cell_type": "code",
   "execution_count": 2,
   "id": "329d90a9-9500-4dae-a408-cc8e0926990c",
   "metadata": {},
   "outputs": [],
   "source": [
    "glass = pd.read_csv(\"./dataset/iris.csv\")"
   ]
  },
  {
   "cell_type": "markdown",
   "id": "cbf2603f-d995-4170-8f6b-3fbfb56def84",
   "metadata": {},
   "source": [
    "## [Quiz] 데이터프레임 구조 확인"
   ]
  },
  {
   "cell_type": "code",
   "execution_count": 3,
   "id": "9877fc98-8b3a-4a27-a346-2df372fef75b",
   "metadata": {},
   "outputs": [
    {
     "name": "stdout",
     "output_type": "stream",
     "text": [
      "<class 'pandas.core.frame.DataFrame'>\n",
      "RangeIndex: 150 entries, 0 to 149\n",
      "Data columns (total 5 columns):\n",
      " #   Column  Non-Null Count  Dtype  \n",
      "---  ------  --------------  -----  \n",
      " 0   sl      150 non-null    float64\n",
      " 1   sw      150 non-null    float64\n",
      " 2   pl      150 non-null    float64\n",
      " 3   pw      150 non-null    float64\n",
      " 4   target  150 non-null    int64  \n",
      "dtypes: float64(4), int64(1)\n",
      "memory usage: 6.0 KB\n"
     ]
    }
   ],
   "source": [
    "glass.info()"
   ]
  },
  {
   "cell_type": "markdown",
   "id": "19b50639-a3bd-4a2a-8763-dd36ae0f875b",
   "metadata": {
    "tags": []
   },
   "source": [
    "## [Quiz] 결측처리\n",
    "* 피쳐 k  : 결측 '0'으로 채우기\n",
    "* 피쳐 fe : 결측 '평균값'으로 채우기, 평균값은 반올림해 소수점2자리까지만 사용\n",
    "* 반올림 : round(), 올림 : math.ceil(), 내림:math.floor(), 소수점 버림:math.trunc() "
   ]
  },
  {
   "cell_type": "code",
   "execution_count": 4,
   "id": "677c06a3-af08-4c31-89ab-5ec3dc993460",
   "metadata": {},
   "outputs": [
    {
     "data": {
      "text/plain": [
       "Series([], dtype: int64)"
      ]
     },
     "execution_count": 4,
     "metadata": {},
     "output_type": "execute_result"
    }
   ],
   "source": [
    "glass.isna().sum()[glass.isna().sum() > 0]"
   ]
  },
  {
   "cell_type": "markdown",
   "id": "52515ec6-fb39-4234-a8ad-4da8237aac73",
   "metadata": {},
   "source": [
    "* 피쳐 k : 결측 '0'으로 채우기"
   ]
  },
  {
   "cell_type": "markdown",
   "id": "e815babe-3899-43e4-b984-7d14414a5496",
   "metadata": {},
   "source": [
    "glass['k'].fillna(0, inplace=True)\n",
    "glass['k'] = glass['k'].fillna(0)"
   ]
  },
  {
   "cell_type": "markdown",
   "id": "9be837ff-4cec-43ce-b8e9-94b626b4f15a",
   "metadata": {},
   "source": [
    "* 피쳐 fe : 결측  glass_type별 fe '평균값'으로 채우기, 평균값은 반올림해 소수점2자리까지만 사용 "
   ]
  },
  {
   "cell_type": "markdown",
   "id": "d10cda5b-aa7e-464b-9fa9-d98218a820db",
   "metadata": {},
   "source": [
    "glass[\"fe\"] = glass[\"fe\"].fillna(   glass.groupby(\"glass_type\")[\"fe\"].transform(\"mean\")    )"
   ]
  },
  {
   "cell_type": "markdown",
   "id": "5b172542-73a9-4006-a4b8-f96268f67085",
   "metadata": {
    "tags": [],
    "toc-hr-collapsed": true
   },
   "source": [
    "## [Quiz] 신규(파생) 피쳐 만들기\n",
    "* 'household' 피쳐 추가\n",
    "* Window 용 glass type의 경우 0의 값, 그 외(Household용)  glass type의 경우 1의 값  \n",
    "\n",
    "<pre>\n",
    "11. Type of glass: (class attribute)\n",
    "-- 1 building_windows_float_processed\n",
    "-- 2 building_windows_non_float_processed\n",
    "-- 3 vehicle_windows_float_processed\n",
    "-- 4 vehicle_windows_non_float_processed (none in this database)\n",
    "-- 5 containers\n",
    "-- 6 tableware\n",
    "-- 7 headlamps"
   ]
  },
  {
   "cell_type": "markdown",
   "id": "fab06d34-3f04-4082-a45b-65963a2616b3",
   "metadata": {},
   "source": [
    "glass['household'] = glass['glass_type'].map({1:0, 2:0, 3:0, 4:0,5:1, 6:1, 7:1})\n",
    "glass.head()"
   ]
  },
  {
   "cell_type": "markdown",
   "id": "b4a15c9b-fa18-40af-8d05-2e0e04d49058",
   "metadata": {},
   "source": [
    "# 모델 학습 및 평가"
   ]
  },
  {
   "cell_type": "markdown",
   "id": "b5b8d3a5-43fb-4588-8b7d-873f47cebb46",
   "metadata": {},
   "source": [
    "## [Quiz] train_test 분리\n",
    "* test 데이터 크기는 전체 데이터의 20% 사용"
   ]
  },
  {
   "cell_type": "code",
   "execution_count": 5,
   "id": "470b20aa-6f95-431b-98e5-d80f147cc6d0",
   "metadata": {},
   "outputs": [
    {
     "name": "stdout",
     "output_type": "stream",
     "text": [
      "(150, 4) (150,)\n"
     ]
    }
   ],
   "source": [
    "\n",
    "y = glass['target']\n",
    "X = glass.drop(['target'],  axis=1)\n",
    "print(X.shape, y.shape)"
   ]
  },
  {
   "cell_type": "code",
   "execution_count": 6,
   "id": "c55a483e-24ff-400c-b07f-70926696b68f",
   "metadata": {},
   "outputs": [
    {
     "data": {
      "text/plain": [
       "((120, 4), (30, 4), (120,), (30,))"
      ]
     },
     "execution_count": 6,
     "metadata": {},
     "output_type": "execute_result"
    }
   ],
   "source": [
    "X_train, X_test, y_train, y_test = train_test_split(X, y, test_size=0.2, random_state=1111)\n",
    "X_train.shape, X_test.shape, y_train.shape, y_test.shape "
   ]
  },
  {
   "cell_type": "markdown",
   "id": "cd871024-7c28-47b2-9e8f-3146cd5fb6f5",
   "metadata": {},
   "source": [
    "## [Quiz] LogisticRegression 모델을 사용해 f1 점수 출력\n",
    "* 분류모델 : from sklearn.linear_model import LogisticRegression\n",
    "* 모델은 기본 파라미터 사용"
   ]
  },
  {
   "cell_type": "markdown",
   "id": "2d250bc9-9374-432c-a006-ecccf20f09da",
   "metadata": {},
   "source": [
    "* \"기본 피쳐 + 파생변수\"  모델 점수"
   ]
  },
  {
   "cell_type": "code",
   "execution_count": 7,
   "id": "37402ea7-58a3-494f-a276-8168dd0cf113",
   "metadata": {},
   "outputs": [],
   "source": [
    "lr_model = LogisticRegression(penalty='l2', C=1.0)\n",
    "lr_model.fit(X_train, y_train)\n",
    "lr_pred = lr_model.predict(X_test)\n",
    "\n",
    "# print(f'intercept   = {lr_model.intercept_}')\n",
    "# print(f'coefficient = {lr_model.coef_}')"
   ]
  },
  {
   "cell_type": "code",
   "execution_count": 8,
   "id": "30324fb0-2977-4fc9-acf4-b11c9f6600c7",
   "metadata": {},
   "outputs": [
    {
     "name": "stdout",
     "output_type": "stream",
     "text": [
      "Confusion matrix\n",
      "[[11  0  0]\n",
      " [ 0 12  1]\n",
      " [ 0  0  6]]\n",
      "Precision : 0.9524\n",
      "Recall    : 0.9744\n",
      "F1        : 0.9610\n",
      "Accuracy  : 0.9667\n"
     ]
    }
   ],
   "source": [
    "\n",
    "\n",
    "print('Confusion matrix')\n",
    "print(confusion_matrix(y_test, lr_pred))\n",
    "\n",
    "print(f\"Precision : {precision_score(y_test, lr_pred, average='macro'):.4f}\")\n",
    "print(f\"Recall    : {recall_score(y_test, lr_pred, average='macro'):.4f}\")\n",
    "print(f\"F1        : {f1_score(y_test, lr_pred, average='macro'):.4f}\")\n",
    "print(f\"Accuracy  : {accuracy_score(y_test, lr_pred):.4f}\")"
   ]
  },
  {
   "cell_type": "markdown",
   "id": "c7babc98-1527-4f04-bbe5-1a96126ba385",
   "metadata": {},
   "source": [
    "## 데이터학습량 늘리기\n",
    "* sklearn.model_selection.KFold             무작위 증강\n",
    "* sklearn.model_selection.StratifiedKFold   target을 train,test에 골로루 증강\n",
    "* sklearn.model_selection.cross_val_score   증강해서 점수만 리턴\n",
    "* sklearn.model_selection.GridSearchCV      증강 + 모델튜닝"
   ]
  },
  {
   "cell_type": "code",
   "execution_count": 9,
   "id": "7ad79251-2c10-4d24-98af-01309cb9d2e3",
   "metadata": {},
   "outputs": [],
   "source": [
    "# k = KFold()\n",
    "# sk = StratifiedKFold()\n",
    "# gcv = GridSearchCV\n",
    "\n",
    "# cross_val_score()"
   ]
  },
  {
   "cell_type": "markdown",
   "id": "90958bd0-ce8c-4450-9964-c8a13b04c559",
   "metadata": {
    "tags": []
   },
   "source": [
    "# KFold\n",
    "* class sklearn.model_selection.KFold(n_splits=5, *, shuffle=False, random_state=None)"
   ]
  },
  {
   "cell_type": "code",
   "execution_count": 10,
   "id": "babdd4f4-8305-4902-b05d-59381b30b60b",
   "metadata": {},
   "outputs": [],
   "source": [
    "# 시계열은 shuffle 놉! 섞어버리면 안되지 shuffle = False 무 족 권 굳이 할거면 random_state 넣으렴 \n",
    "# KFold로 돌렸다? 데이터 들어오는게 다 달라! 그래서 여러번 학습하는 효과를 누릴 수 있어 적은 데이터로도! \n",
    "# split 5하세요? 원본을 다섯배 증강시켜주세여! 즉 5배 학습효과를 늘려주겠다! 는 뜻 ! \n",
    "\n",
    "\n",
    "# KFold(n_splits=2, random_state=None, shuffle=False)   덩어리를 2개로 나뉘어서 train, test로 나눠주기 \n",
    "# >>> for train_index, test_index in kf.split(X):\n",
    "\n",
    "\n",
    "\n",
    "# df.iloc[줄,칸]\n",
    "\n",
    "#  X_train, X_test = X[train_index], X[test_index]\n",
    "# ...     y_train, y_test = y[train_index], y[test_index]   이렇게 한 번 도는거고! \n",
    "# 이제 이걸 5번 돌린다는거야! "
   ]
  },
  {
   "cell_type": "code",
   "execution_count": 11,
   "id": "613bc3ec-7ad9-45ff-b510-2da09cf8d1dc",
   "metadata": {},
   "outputs": [
    {
     "name": "stdout",
     "output_type": "stream",
     "text": [
      "TRAIN: [  0   2   5   7   8   9  11  13  14  15  17  18  20  21  22  23  25  26\n",
      "  29  30  31  32  35  37  38  39  40  42  43  44  45  47  48  50  52  53\n",
      "  54  55  57  61  62  63  64  66  68  69  73  74  75  76  77  78  81  83\n",
      "  85  86  87  88  89  91  93  94  96  97  98 102 104 105 106 107 108 109\n",
      " 110 112 114 115 117 118 121 123 124 125 127 129 130 132 133 134 135 136\n",
      " 137 139 140 141 143 144 146 147 148 149] TEST: [  1   3   4   6  10  12  16  19  24  27  28  33  34  36  41  46  49  51\n",
      "  56  58  59  60  65  67  70  71  72  79  80  82  84  90  92  95  99 100\n",
      " 101 103 111 113 116 119 120 122 126 128 131 138 142 145]\n",
      "0.9592592592592593\n",
      "[[17  0  0]\n",
      " [ 0 17  1]\n",
      " [ 0  1 14]]\n",
      "TRAIN: [  0   1   3   4   6   8   9  10  11  12  14  16  18  19  20  21  24  25\n",
      "  27  28  29  31  33  34  36  41  42  44  45  46  47  49  50  51  52  53\n",
      "  55  56  58  59  60  61  64  65  67  69  70  71  72  75  76  77  79  80\n",
      "  81  82  84  85  86  87  88  90  92  93  95  96  97  98  99 100 101 103\n",
      " 104 105 108 109 111 113 114 116 119 120 122 125 126 128 130 131 132 133\n",
      " 136 138 139 140 142 143 145 147 148 149] TEST: [  2   5   7  13  15  17  22  23  26  30  32  35  37  38  39  40  43  48\n",
      "  54  57  62  63  66  68  73  74  78  83  89  91  94 102 106 107 110 112\n",
      " 115 117 118 121 123 124 127 129 134 135 137 141 144 146]\n",
      "0.9568151147098516\n",
      "[[18  0  0]\n",
      " [ 0 12  1]\n",
      " [ 0  1 18]]\n",
      "TRAIN: [  1   2   3   4   5   6   7  10  12  13  15  16  17  19  22  23  24  26\n",
      "  27  28  30  32  33  34  35  36  37  38  39  40  41  43  46  48  49  51\n",
      "  54  56  57  58  59  60  62  63  65  66  67  68  70  71  72  73  74  78\n",
      "  79  80  82  83  84  89  90  91  92  94  95  99 100 101 102 103 106 107\n",
      " 110 111 112 113 115 116 117 118 119 120 121 122 123 124 126 127 128 129\n",
      " 131 134 135 137 138 141 142 144 145 146] TEST: [  0   8   9  11  14  18  20  21  25  29  31  42  44  45  47  50  52  53\n",
      "  55  61  64  69  75  76  77  81  85  86  87  88  93  96  97  98 104 105\n",
      " 108 109 114 125 130 132 133 136 139 140 143 147 148 149]\n",
      "0.9808899808899808\n",
      "[[15  0  0]\n",
      " [ 0 18  1]\n",
      " [ 0  0 16]]\n",
      "0.9656547849530305\n"
     ]
    }
   ],
   "source": [
    "k = KFold(n_splits= 3 , shuffle=True , random_state=1111)  # shuffle막으니까 0점만 나오자나 \n",
    "# print(k.get_n_splits(glass))\n",
    "#-----------------------------train_test_split\n",
    "f1_list = []\n",
    "for train_index, test_index in k.split(glass):\n",
    "    print(\"TRAIN:\", train_index, \"TEST:\", test_index)\n",
    "    X_train, X_test = X.iloc[train_index] , X.iloc[test_index]\n",
    "    y_train, y_test = y.iloc[train_index] , y.iloc[test_index]\n",
    "    # print( X_train.shape, X_test.shape, y_train.shape, y_test.shape)\n",
    "    \n",
    "    #---------------------- 학습해라! (웬만해서는 여기서 학습하진 말고. . . . .)\n",
    "    lr_model = LogisticRegression(penalty='l2', C=1.0)\n",
    "    lr_model.fit(X_train, y_train)\n",
    "    computer_pred  = lr_model.predict(X_test)\n",
    "    \n",
    "    f1 = f1_score( y_test, computer_pred, average = 'macro')\n",
    "    f1_list.append(f1)\n",
    "    print(f1)\n",
    "    print(confusion_matrix(y_test, computer_pred))\n",
    "    \n",
    "print(np.array(f1_list).mean()) # f1의 평균점수! "
   ]
  },
  {
   "cell_type": "markdown",
   "id": "fec36f25-0d6b-49f4-aa7c-2437851f1568",
   "metadata": {
    "tags": []
   },
   "source": [
    "# StratifiedKFold\n",
    "* class sklearn.model_selection.StratifiedKFold(n_splits=5, *, shuffle=False, random_state=None)"
   ]
  },
  {
   "cell_type": "code",
   "execution_count": 12,
   "id": "92ae06a0-a4b1-4ae4-9269-b7b6370ef0cd",
   "metadata": {},
   "outputs": [],
   "source": [
    "# skf = StratifiedKFold(n_splits=2)\n",
    "# >>> skf.get_n_splits(X, y)\n",
    "# 2\n",
    "# >>> print(skf)\n",
    "# StratifiedKFold(n_splits=2, random_state=None, shuffle=False)\n",
    "# >>> for train_index, test_index in skf.split(X, y):   >>> train , test 분리해줘! 왜? 비율나눠줘야하니까 \n",
    "# ...     print(\"TRAIN:\", train_index, \"TEST:\", test_index)\n",
    "# ...     X_train, X_test = X[train_index], X[test_index]\n",
    "# ...     y_train, y_test = y[train_index], y[test_index]"
   ]
  },
  {
   "cell_type": "code",
   "execution_count": 13,
   "id": "18b67951-fc3c-4b83-9b12-64c0549abeb5",
   "metadata": {},
   "outputs": [
    {
     "name": "stdout",
     "output_type": "stream",
     "text": [
      "TRAIN: [  0   3   4   6  12  15  16  17  18  19  21  22  26  28  31  32  33  34\n",
      "  35  36  37  38  45  48  49  51  53  54  56  60  61  65  66  70  71  72\n",
      "  73  74  75  81  82  84  88  90  91  92  93  96  97  98 101 103 104 109\n",
      " 111 112 113 115 116 118 121 124 125 127 128 130 133 136 137 138 139 142\n",
      " 145 146 149] TEST: [  1   2   5   7   8   9  10  11  13  14  20  23  24  25  27  29  30  39\n",
      "  40  41  42  43  44  46  47  50  52  55  57  58  59  62  63  64  67  68\n",
      "  69  76  77  78  79  80  83  85  86  87  89  94  95  99 100 102 105 106\n",
      " 107 108 110 114 117 119 120 122 123 126 129 131 132 134 135 140 141 143\n",
      " 144 147 148]\n",
      "(75, 4) (75, 4) (75,) (75,)\n",
      "sl   sw   pl   pw \n",
      "5.8  2.7  5.1  1.9    2\n",
      "4.3  3.0  1.1  0.1    1\n",
      "6.1  2.9  4.7  1.4    1\n",
      "6.3  3.3  4.7  1.6    1\n",
      "     2.9  5.6  1.8    1\n",
      "                     ..\n",
      "5.2  3.5  1.5  0.2    1\n",
      "     3.4  1.4  0.2    1\n",
      "     2.7  3.9  1.4    1\n",
      "5.1  3.8  1.6  0.2    1\n",
      "7.9  3.8  6.4  2.0    1\n",
      "Length: 99, dtype: int64\n",
      "0    35\n",
      "2    34\n",
      "1    31\n",
      "Name: target, dtype: int64\n",
      "0.9808899808899808\n",
      "[[15  0  0]\n",
      " [ 0 18  1]\n",
      " [ 0  0 16]]\n",
      "TRAIN: [  1   2   5   7   8   9  10  11  13  14  20  23  24  25  27  29  30  39\n",
      "  40  41  42  43  44  46  47  50  52  55  57  58  59  62  63  64  67  68\n",
      "  69  76  77  78  79  80  83  85  86  87  89  94  95  99 100 102 105 106\n",
      " 107 108 110 114 117 119 120 122 123 126 129 131 132 134 135 140 141 143\n",
      " 144 147 148] TEST: [  0   3   4   6  12  15  16  17  18  19  21  22  26  28  31  32  33  34\n",
      "  35  36  37  38  45  48  49  51  53  54  56  60  61  65  66  70  71  72\n",
      "  73  74  75  81  82  84  88  90  91  92  93  96  97  98 101 103 104 109\n",
      " 111 112 113 115 116 118 121 124 125 127 128 130 133 136 137 138 139 142\n",
      " 145 146 149]\n",
      "(75, 4) (75, 4) (75,) (75,)\n",
      "sl   sw   pl   pw \n",
      "5.8  2.7  5.1  1.9    2\n",
      "4.3  3.0  1.1  0.1    1\n",
      "6.1  2.9  4.7  1.4    1\n",
      "6.3  3.3  4.7  1.6    1\n",
      "     2.9  5.6  1.8    1\n",
      "                     ..\n",
      "5.2  3.5  1.5  0.2    1\n",
      "     3.4  1.4  0.2    1\n",
      "     2.7  3.9  1.4    1\n",
      "5.1  3.8  1.6  0.2    1\n",
      "7.9  3.8  6.4  2.0    1\n",
      "Length: 99, dtype: int64\n",
      "0    35\n",
      "2    34\n",
      "1    31\n",
      "Name: target, dtype: int64\n",
      "0.9808899808899808\n",
      "[[15  0  0]\n",
      " [ 0 18  1]\n",
      " [ 0  0 16]]\n",
      "0.9717488633278106\n"
     ]
    }
   ],
   "source": [
    "skf = StratifiedKFold(n_splits=2, shuffle = True , random_state = 1111)  # y값을 각 fold안에 골고루 넣어주기 때문에 셔플 굳이 열 필요없어! \n",
    "\n",
    "for train_index ,test_index  in skf.split(X  , y):\n",
    "    train_X, test_X = X.iloc[train_index], X.iloc[test_index]\n",
    "    train_y , test_y = y.iloc[train_index], y.iloc[test_index]\n",
    "    print(\"TRAIN:\", train_index, \"TEST:\", test_index)\n",
    "    print(train_X.shape, test_X.shape , train_y.shape , test_y.shape )\n",
    "    print(X_train.value_counts())\n",
    "    print(y_train.value_counts())\n",
    "    \n",
    "    lr_model = LogisticRegression(penalty='l2', C=1.0)\n",
    "    lr_model.fit(X_train, y_train)\n",
    "    computer_pred  = lr_model.predict(X_test)\n",
    "    \n",
    "    f1 = f1_score( y_test, computer_pred, average = 'macro')\n",
    "    f1_list.append(f1)\n",
    "    print(f1)\n",
    "    print(confusion_matrix(y_test, computer_pred))\n",
    "    \n",
    "print(np.array(f1_list).mean()) # f1의 평균점수! "
   ]
  },
  {
   "cell_type": "markdown",
   "id": "41883497-ed5e-4d0b-a936-747b6e848471",
   "metadata": {
    "tags": []
   },
   "source": [
    "# cross_val_score()\n",
    "* sklearn.model_selection.cross_val_score(estimator, X, y=None, *, groups=None, scoring=None, cv=None, n_jobs=None, verbose=0, fit_params=None, pre_dispatch='2*n_jobs', error_score=nan)"
   ]
  },
  {
   "cell_type": "code",
   "execution_count": 14,
   "id": "aec4e858-40ec-4575-a410-19e30a3887fd",
   "metadata": {},
   "outputs": [
    {
     "name": "stdout",
     "output_type": "stream",
     "text": [
      "[0.9797235  0.95925926 0.98037518]\n",
      "0.9731193139795291\n"
     ]
    }
   ],
   "source": [
    "scores_arr = cross_val_score(lr_model , X, y , scoring=\"f1_macro\"  # ndarray로 리턴해줄게!  \n",
    "                , cv=3)\n",
    "\n",
    "print(scores_arr)\n",
    "print(scores_arr.mean())\n",
    "\n",
    "# for train_index ,test_index  in skf.split(X  , y):     이걸 전부 cross_val_score가 다 알아서 처리해주고 결과만 리턴해줌! \n",
    "#     train_X, test_X = X.iloc[train_index], X.iloc[test_index]\n",
    "#     train_y , test_y = y.iloc[train_index], y.iloc[test_index]\n",
    "#     print(\"TRAIN:\", train_index, \"TEST:\", test_index)\n",
    "#     print(train_X.shape, test_X.shape , train_y.shape , test_y.shape )\n",
    "#     print(X_train.value_counts())\n",
    "#     print(y_train.value_counts())\n",
    "                                                                # 중간과정의 개입이 안들어가짐.. 비교, 가공하는 등 처리해야 될 것들이 있다? 그럼 다른거 쓰렴\n",
    "                                                                # 딱히 별 것 없으면 그냥 cross_val 쓰렴! \n",
    "#     lr_model = LogisticRegression(penalty='l2', C=1.0)\n",
    "#     lr_model.fit(X_train, y_train)\n",
    "#     computer_pred  = lr_model.predict(X_test)\n",
    "    \n",
    "#     f1 = f1_score( y_test, computer_pred, average = 'macro')\n",
    "#     f1_list.append(f1)\n",
    "#     print(f1)\n",
    "#     print(confusion_matrix(y_test, computer_pred))\n",
    "      # return np.array(f1_list)"
   ]
  },
  {
   "cell_type": "markdown",
   "id": "abd75d92-3716-4315-9f0b-c30d6fcae1f5",
   "metadata": {},
   "source": [
    "# 모델교체 "
   ]
  },
  {
   "cell_type": "markdown",
   "id": "61f84f7c-af1e-4ee6-84c7-12792b330f13",
   "metadata": {},
   "source": [
    "<pre>\n",
    "* CART 모델 >>>> 회귀랑 분류 다 돼 \n",
    "tree: 가장 기본적! \n",
    "    트리의 가장 대표적인 모델? decisiontreeclassifier\n",
    "    가장 큰 단점? 과적합이여 . ..(있는 데이터에 딱 맞춰서 학습시킨거! >> 새로운 유형의 데이터가 나오면 또로로록...) \n",
    "    \n",
    "bagging: \n",
    "    가장 대표적 모델? randomforestclassifier\n",
    "boosting: 데이터 계속 복제해 >> 틀린쪽 버리고 잘맞춘쪽 가중치 쎄게 줘! 즉 가중치 조절해서 좀 더 선명하고 좋은 가지 ㄱㄱ,, (잔챙이나 의미없는 데이터 가중치조절_버렷) >> 이쁜가지로 최종 FITTING함 >>> 다양한 모델을 쓴 효과를 얻을 수 있어! \n",
    "    가장 대표적 모델? adaboostclassifier\n",
    "                     xgboost lightgbm catboost (과적합을 피함 // 피쳐가 너무 많아 )\n",
    "\n",
    "votingclassifier: 조아 배깅과 부스팅 섞어! ! ! !! \n",
    "stackingclassifier\n",
    "\n",
    "* ML에서 부트스트랩은 복원 추출을 얘기함!\n",
    "  "
   ]
  },
  {
   "cell_type": "code",
   "execution_count": 15,
   "id": "1506b7cc-055e-4196-8e72-904d6e6b54c3",
   "metadata": {},
   "outputs": [],
   "source": [
    "from sklearn.tree import DecisionTreeClassifier\n",
    "from sklearn.ensemble import RandomForestClassifier\n",
    "from  sklearn.ensemble import GradientBoostingClassifier\n"
   ]
  },
  {
   "cell_type": "code",
   "execution_count": 16,
   "id": "6004bedb-5a3e-4e49-ab79-b4d8810d3c8a",
   "metadata": {
    "tags": []
   },
   "outputs": [
    {
     "name": "stdout",
     "output_type": "stream",
     "text": [
      "LR\n",
      "DT\n",
      "RF\n",
      "GB\n"
     ]
    }
   ],
   "source": [
    "model_list = [ (\"LR\" , LogisticRegression(penalty='l2', C=1.0)),\n",
    "               (\"DT\", DecisionTreeClassifier()),\n",
    "               (\"RF\",RandomForestClassifier()), # DecisionTreeClassifier 100개 돌린 효과 有\n",
    "               (\"GB\",GradientBoostingClassifier())\n",
    "             ]\n",
    "for (name,model) in model_list:\n",
    "    print(name)\n",
    "    scores_arr = cross_val_score(model , X , y , scoring=\"f1_macro\",cv=5)  # ndarray로 리턴해줄게!  \n",
    "    # print(scores_arr.mean())"
   ]
  },
  {
   "cell_type": "markdown",
   "id": "9d18d762-23ca-4f2b-8554-cc58c1fdd0eb",
   "metadata": {},
   "source": [
    "<pre>\n",
    "모델학습에 상당히 큰 영향을 미치는 파라미터?? 하이퍼 파라미터\n",
    "oob_score = true하면 따로 test 줄 필요없어 그냥 나머지 데이터로 알아서 해쥼 \n",
    "\n",
    "gini 불순도 \n",
    "불순도 높은 애들을 가지치기 하는거여 \n",
    "entropy 정보량\n",
    "정보량이 많은 쪽으로 이동한다! \n",
    "\n",
    "* 그리드씨브이의 장점? 증강도 증강인데 ,, , , 파라미터를 손댐으로써 모델을 교체하지 않더라도 모델튜닝이 가능하다! ! ! "
   ]
  },
  {
   "cell_type": "markdown",
   "id": "4fefa088-8e83-4bf3-bd73-abf85c01fbc3",
   "metadata": {
    "tags": []
   },
   "source": [
    "# GridSearchCV()"
   ]
  },
  {
   "cell_type": "markdown",
   "id": "bdf9c4b6-abb4-4612-bd8a-1f7873eb03a3",
   "metadata": {},
   "source": [
    "* class sklearn.model_selection.GridSearchCV(estimator, param_grid, *, scoring=None, n_jobs=None, refit=True, cv=None, verbose=0, pre_dispatch='2*n_jobs', error_score=nan, return_train_score=False)\n",
    "\n",
    "* RandomForestClassifier(n_estimators=100, *, criterion='gini', max_depth=None, min_samples_split=2, min_samples_leaf=1, min_weight_fraction_leaf=0.0, max_features='sqrt', max_leaf_nodes=None, min_impurity_decrease=0.0, bootstrap=True, oob_score=False, n_jobs=None, random_state=None, verbose=0, warm_start=False, class_weight=None, ccp_alpha=0.0, max_samples=None)\n",
    "\n",
    "* GridSearchCV(estimator, param_grid, , scoring=None, n_jobs=None, refit=True, cv=None, verbose=0, pre_dispatch='2n_jobs', error_score=nan, return_train_score=False)"
   ]
  },
  {
   "cell_type": "code",
   "execution_count": 23,
   "id": "7fd0a723-fb74-4230-a972-426ac3e1092b",
   "metadata": {},
   "outputs": [
    {
     "name": "stdout",
     "output_type": "stream",
     "text": [
      "0.9664818612187034\n",
      "{'criterion': 'gini', 'max_depth': 5, 'min_samples_split': 3}\n"
     ]
    }
   ],
   "source": [
    "rf_model = RandomForestClassifier(n_estimators=100,random_state=1111)\n",
    "# X = np.concatenate((X_train_scaler, X_test_scaler), axis=0)\n",
    "# y = np.concatenate((y_train, y_test), axis=0)\n",
    "\n",
    "myprm = {\n",
    "             \"criterion\"         : [\"gini\", \"entropy\"]\n",
    "            , \"max_depth\"         : [5,7,9,11]\n",
    "            , \"min_samples_split\" : [1,2,3] \n",
    "        }\n",
    "fold = StratifiedKFold(n_splits=5) #shuffle=True, random_state=1111                 \n",
    "gcv_model = GridSearchCV(rf_model\n",
    "                         , param_grid=myprm\n",
    "                         , scoring=\"f1_macro\"\n",
    "                         , refit=True\n",
    "                         , cv = fold        \n",
    "                           #cv=5\n",
    "                       ) \n",
    "gcv_model.fit(X, y)  #내가 설정한대로 학습해보렴!  ! ! !\n",
    "print(gcv_model.best_score_)\n",
    "print(gcv_model.best_params_)\n",
    "\n",
    "# gcv이용해서 가장 좋은 파라미터를 가지고 있는 모델을 찾아따 ?! \n",
    "\n",
    "# cv , , , 회귀는 kfold가 디폴트야! 회귀는연속성의 데이터가 많아서 골고루의 개념이 업어\n",
    "#분류는  skfold가 디폴트임 "
   ]
  },
  {
   "cell_type": "markdown",
   "id": "98b4b060-e813-474f-bdb9-ad5991951b3b",
   "metadata": {},
   "source": [
    "* 결측이없다\n",
    "* 모든 피쳐타잉베 oobject가 없다!\n"
   ]
  },
  {
   "cell_type": "markdown",
   "id": "21b88318-7c61-4962-a49f-d29d4bede0d3",
   "metadata": {},
   "source": [
    "# 5차 : 평가검증\n",
    "* 내일할거\n",
    "* f1, recall , accuracy , precision , roc_curv, auc\n",
    "* confusion_matrix\n",
    "* precision , recall : threadhold\n"
   ]
  }
 ],
 "metadata": {
  "kernelspec": {
   "display_name": "Python 3 (ipykernel)",
   "language": "python",
   "name": "python3"
  },
  "language_info": {
   "codemirror_mode": {
    "name": "ipython",
    "version": 3
   },
   "file_extension": ".py",
   "mimetype": "text/x-python",
   "name": "python",
   "nbconvert_exporter": "python",
   "pygments_lexer": "ipython3",
   "version": "3.8.8"
  }
 },
 "nbformat": 4,
 "nbformat_minor": 5
}
