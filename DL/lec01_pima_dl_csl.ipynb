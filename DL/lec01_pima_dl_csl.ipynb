{
 "cells": [
  {
   "cell_type": "markdown",
   "id": "81664347-508d-4fe1-8ccb-08ce2ad781da",
   "metadata": {},
   "source": [
    "<font size=6><b>Lec01. pima DL"
   ]
  },
  {
   "cell_type": "code",
   "execution_count": 1,
   "id": "8d428a41-3304-4323-8294-8c7af44330f3",
   "metadata": {},
   "outputs": [],
   "source": [
    "import numpy as np\n",
    "import pandas as pd\n",
    "import matplotlib.pyplot as plt\n",
    "import seaborn as sns\n",
    "\n",
    "import warnings\n",
    "warnings.filterwarnings(action='ignore')\n",
    "\n",
    "# from sklearn.tree import DecisionTreeClassifier\n",
    "# from sklearn.ensemble import RandomForestClassifier\n",
    "# from sklearn.linear_model import LogisticRegression\n",
    "# from sklearn.neighbors import KNeighborsClassifier\n",
    "# from sklearn.model_selection import train_test_split\n",
    "# from sklearn.metrics import accuracy_score,confusion_matrix,precision_score, recall_score, f1_score, roc_auc_score, roc_curve"
   ]
  },
  {
   "cell_type": "markdown",
   "id": "fc310339-1d98-4003-9065-cedc29e2fa96",
   "metadata": {},
   "source": [
    "# Data Load"
   ]
  },
  {
   "cell_type": "code",
   "execution_count": 2,
   "id": "423658b0-cd67-4cd5-8afc-dbe89ff0cffc",
   "metadata": {},
   "outputs": [],
   "source": [
    "df = pd.read_csv('./dataset/diabetes.csv')"
   ]
  },
  {
   "cell_type": "code",
   "execution_count": 3,
   "id": "daf20837-71e5-4e71-9dff-233ff7ef2db3",
   "metadata": {},
   "outputs": [
    {
     "name": "stdout",
     "output_type": "stream",
     "text": [
      "<class 'pandas.core.frame.DataFrame'>\n",
      "RangeIndex: 768 entries, 0 to 767\n",
      "Data columns (total 9 columns):\n",
      " #   Column                    Non-Null Count  Dtype  \n",
      "---  ------                    --------------  -----  \n",
      " 0   Pregnancies               768 non-null    int64  \n",
      " 1   Glucose                   768 non-null    int64  \n",
      " 2   BloodPressure             768 non-null    int64  \n",
      " 3   SkinThickness             768 non-null    int64  \n",
      " 4   Insulin                   768 non-null    int64  \n",
      " 5   BMI                       768 non-null    float64\n",
      " 6   DiabetesPedigreeFunction  768 non-null    float64\n",
      " 7   Age                       768 non-null    int64  \n",
      " 8   Outcome                   768 non-null    int64  \n",
      "dtypes: float64(2), int64(7)\n",
      "memory usage: 54.1 KB\n"
     ]
    }
   ],
   "source": [
    "df.info()"
   ]
  },
  {
   "cell_type": "code",
   "execution_count": 4,
   "id": "26eb2b47-9ecb-4929-b7c4-be4723d60f72",
   "metadata": {},
   "outputs": [
    {
     "data": {
      "text/html": [
       "<div>\n",
       "<style scoped>\n",
       "    .dataframe tbody tr th:only-of-type {\n",
       "        vertical-align: middle;\n",
       "    }\n",
       "\n",
       "    .dataframe tbody tr th {\n",
       "        vertical-align: top;\n",
       "    }\n",
       "\n",
       "    .dataframe thead th {\n",
       "        text-align: right;\n",
       "    }\n",
       "</style>\n",
       "<table border=\"1\" class=\"dataframe\">\n",
       "  <thead>\n",
       "    <tr style=\"text-align: right;\">\n",
       "      <th></th>\n",
       "      <th>Pregnancies</th>\n",
       "      <th>Glucose</th>\n",
       "      <th>BloodPressure</th>\n",
       "      <th>SkinThickness</th>\n",
       "      <th>Insulin</th>\n",
       "      <th>BMI</th>\n",
       "      <th>DiabetesPedigreeFunction</th>\n",
       "      <th>Age</th>\n",
       "      <th>Outcome</th>\n",
       "    </tr>\n",
       "  </thead>\n",
       "  <tbody>\n",
       "    <tr>\n",
       "      <th>0</th>\n",
       "      <td>6</td>\n",
       "      <td>148</td>\n",
       "      <td>72</td>\n",
       "      <td>35</td>\n",
       "      <td>0</td>\n",
       "      <td>33.6</td>\n",
       "      <td>0.627</td>\n",
       "      <td>50</td>\n",
       "      <td>1</td>\n",
       "    </tr>\n",
       "    <tr>\n",
       "      <th>1</th>\n",
       "      <td>1</td>\n",
       "      <td>85</td>\n",
       "      <td>66</td>\n",
       "      <td>29</td>\n",
       "      <td>0</td>\n",
       "      <td>26.6</td>\n",
       "      <td>0.351</td>\n",
       "      <td>31</td>\n",
       "      <td>0</td>\n",
       "    </tr>\n",
       "    <tr>\n",
       "      <th>2</th>\n",
       "      <td>8</td>\n",
       "      <td>183</td>\n",
       "      <td>64</td>\n",
       "      <td>0</td>\n",
       "      <td>0</td>\n",
       "      <td>23.3</td>\n",
       "      <td>0.672</td>\n",
       "      <td>32</td>\n",
       "      <td>1</td>\n",
       "    </tr>\n",
       "    <tr>\n",
       "      <th>3</th>\n",
       "      <td>1</td>\n",
       "      <td>89</td>\n",
       "      <td>66</td>\n",
       "      <td>23</td>\n",
       "      <td>94</td>\n",
       "      <td>28.1</td>\n",
       "      <td>0.167</td>\n",
       "      <td>21</td>\n",
       "      <td>0</td>\n",
       "    </tr>\n",
       "    <tr>\n",
       "      <th>4</th>\n",
       "      <td>0</td>\n",
       "      <td>137</td>\n",
       "      <td>40</td>\n",
       "      <td>35</td>\n",
       "      <td>168</td>\n",
       "      <td>43.1</td>\n",
       "      <td>2.288</td>\n",
       "      <td>33</td>\n",
       "      <td>1</td>\n",
       "    </tr>\n",
       "  </tbody>\n",
       "</table>\n",
       "</div>"
      ],
      "text/plain": [
       "   Pregnancies  Glucose  BloodPressure  SkinThickness  Insulin   BMI  \\\n",
       "0            6      148             72             35        0  33.6   \n",
       "1            1       85             66             29        0  26.6   \n",
       "2            8      183             64              0        0  23.3   \n",
       "3            1       89             66             23       94  28.1   \n",
       "4            0      137             40             35      168  43.1   \n",
       "\n",
       "   DiabetesPedigreeFunction  Age  Outcome  \n",
       "0                     0.627   50        1  \n",
       "1                     0.351   31        0  \n",
       "2                     0.672   32        1  \n",
       "3                     0.167   21        0  \n",
       "4                     2.288   33        1  "
      ]
     },
     "execution_count": 4,
     "metadata": {},
     "output_type": "execute_result"
    }
   ],
   "source": [
    "df.head()"
   ]
  },
  {
   "cell_type": "markdown",
   "id": "af7499c9-e78b-4fec-819e-8a9c5ce2b45e",
   "metadata": {},
   "source": [
    "# 모델"
   ]
  },
  {
   "cell_type": "code",
   "execution_count": 5,
   "id": "cde2c1a2-ba3c-48bb-a57d-d8220d877dec",
   "metadata": {},
   "outputs": [],
   "source": [
    "from tensorflow.keras.models import Sequential"
   ]
  },
  {
   "cell_type": "markdown",
   "id": "096be227-07f0-4cb5-b3c7-5ff8a4906c7b",
   "metadata": {},
   "source": [
    "<pre>\n",
    "Sequential( [_____, _____, _____, _____] )\n",
    "\n",
    "또는\n",
    "\n",
    "model = Sequential()\n",
    "model.add(_____)\n",
    "model.add(_____)\n",
    "model.add(_____)\n",
    "model.add(_____)"
   ]
  },
  {
   "cell_type": "code",
   "execution_count": 6,
   "id": "4119ad65-5e41-460c-801d-cad6d0529866",
   "metadata": {},
   "outputs": [],
   "source": [
    "import tensorflow as tf\n",
    "from tensorflow.keras.layers import Dense, Dropout"
   ]
  },
  {
   "cell_type": "markdown",
   "id": "5240758f-a829-4c02-8e81-82b82e4fbeaa",
   "metadata": {},
   "source": [
    "<pre>\n",
    "tf.keras.layers.Dense(\n",
    "<b><font color=red>\n",
    "    units,   ----------------------------------- * output 수\n",
    "    activation=None,  -------------------------- * 활성함수\n",
    "    input_dim, --------------------------------- * input 수\n",
    "</font></b>    \n",
    "    use_bias=True,    -------------------------- wx+ b\n",
    "    bias_initializer=\"zeros\",  -----------------   + 0 \n",
    "    bias_regularizer=None,\n",
    "    bias_constraint=None,\n",
    "    \n",
    "    kernel_initializer=\"glorot_uniform\",  ------ w초기화\n",
    "    kernel_regularizer=None,  ------------------ w초기화\n",
    "    kernel_constraint=None,\n",
    "    activity_regularizer=None,\n",
    "    \n",
    "    **kwargs\n",
    ")"
   ]
  },
  {
   "cell_type": "code",
   "execution_count": 7,
   "id": "ab6156da-492d-4c2c-a152-d9a8cbf0ffd3",
   "metadata": {},
   "outputs": [
    {
     "data": {
      "text/plain": [
       "(768, 9)"
      ]
     },
     "execution_count": 7,
     "metadata": {},
     "output_type": "execute_result"
    }
   ],
   "source": [
    "df.shape"
   ]
  },
  {
   "cell_type": "code",
   "execution_count": 8,
   "id": "bc1cf038-aacc-4a5d-8aaf-09376e7f4f74",
   "metadata": {},
   "outputs": [],
   "source": [
    "# model = Sequential()\n",
    "# d1 = Dense()\n",
    "# d2 = Dense()\n",
    "# d3 = Dense()\n",
    "\n",
    "# model.add(d1)\n",
    "# model.add(d2)\n",
    "# model.add(d3)\n",
    "\n",
    "model = Sequential()\n",
    "model.add(Dense(units=12,  activation='relu',  input_dim=8))   #--------------- input_dim == 피쳐갯수\n",
    "model.add(Dense(units=20 , activation='relu'))\n",
    "model.add(Dense(units=40 , activation='relu'))\n",
    "model.add(Dense(units=120, activation='relu'))\n",
    "model.add(Dropout(0.5))\n",
    "model.add(Dense(units=80 , activation='relu'))\n",
    "model.add(Dense(units=60 , activation='relu'))\n",
    "model.add(Dense(units=20 , activation='relu'))\n",
    "model.add(Dropout(0.5))\n",
    "model.add(Dense(units=1 , activation='sigmoid'))              #--------------- 이진분류\n",
    "# model.add(Dense(units=3 , activation='somtmax'))              #--------------- 멀티분류\n",
    "# model.add(Dense(units=1 ))                                    #--------------- 회귀"
   ]
  },
  {
   "cell_type": "code",
   "execution_count": 9,
   "id": "7dd09b89-eff5-4c88-92ff-2cc666d4c95d",
   "metadata": {},
   "outputs": [
    {
     "name": "stdout",
     "output_type": "stream",
     "text": [
      "Model: \"sequential\"\n",
      "_________________________________________________________________\n",
      " Layer (type)                Output Shape              Param #   \n",
      "=================================================================\n",
      " dense (Dense)               (None, 12)                108       \n",
      "                                                                 \n",
      " dense_1 (Dense)             (None, 20)                260       \n",
      "                                                                 \n",
      " dense_2 (Dense)             (None, 40)                840       \n",
      "                                                                 \n",
      " dense_3 (Dense)             (None, 120)               4920      \n",
      "                                                                 \n",
      " dropout (Dropout)           (None, 120)               0         \n",
      "                                                                 \n",
      " dense_4 (Dense)             (None, 80)                9680      \n",
      "                                                                 \n",
      " dense_5 (Dense)             (None, 60)                4860      \n",
      "                                                                 \n",
      " dense_6 (Dense)             (None, 20)                1220      \n",
      "                                                                 \n",
      " dropout_1 (Dropout)         (None, 20)                0         \n",
      "                                                                 \n",
      " dense_7 (Dense)             (None, 1)                 21        \n",
      "                                                                 \n",
      "=================================================================\n",
      "Total params: 21,909\n",
      "Trainable params: 21,909\n",
      "Non-trainable params: 0\n",
      "_________________________________________________________________\n"
     ]
    }
   ],
   "source": [
    "model.summary()"
   ]
  },
  {
   "cell_type": "markdown",
   "id": "d75d79b6-5ce5-4452-b586-44b2616fb94d",
   "metadata": {},
   "source": [
    "# 모델 컴파일"
   ]
  },
  {
   "cell_type": "markdown",
   "id": "05ff83b3-016f-49b0-a2c3-3ed2a6014200",
   "metadata": {},
   "source": [
    "<pre>\n",
    "Model.compile(\n",
    "<b><font color=red>\n",
    "    optimizer=\"rmsprop\",   #---------------역전파 수행 시 W(가중치)를 최적화\n",
    "    loss=None,             #---------------손실함수가 계산한 (Y - Y^) 차이값\n",
    "    metrics=None,          #------ 모델의 예측력 평가점수\n",
    "</b></font>\n",
    "    loss_weights=None,\n",
    "    weighted_metrics=None,\n",
    "    run_eagerly=None,\n",
    "    steps_per_execution=None,\n",
    "    jit_compile=None,\n",
    "    **kwargs\n",
    ")"
   ]
  },
  {
   "cell_type": "code",
   "execution_count": 10,
   "id": "a1f24967-ddc1-4744-b94c-6cf952313c7f",
   "metadata": {},
   "outputs": [],
   "source": [
    "model.compile(optimizer='adam',            #------ 역전파 수행 시 W(가중치)를 최적화\n",
    "            loss='binary_crossentropy',    #------ 손실값\n",
    "            metrics=['accuracy'])          #------ 모델의 예측력 평가점수"
   ]
  },
  {
   "cell_type": "markdown",
   "id": "d7c3c127-78cb-4b76-9110-8e4fef822cdc",
   "metadata": {},
   "source": [
    "# 평가 메트릭스\n",
    "* ref: https://keras.io/api/metrics/\n",
    "\n",
    "<pre>\n",
    "Accuracy metrics\n",
    "    Accuracy class\n",
    "Probabilistic metrics\n",
    "    BinaryCrossentropy class\n",
    "    CategoricalCrossentropy class\n",
    "    SparseCategoricalCrossentropy class\n",
    "Regression metrics\n",
    "    MeanSquaredError class\n",
    "    RootMeanSquaredError class\n",
    "    CosineSimilarity class\n",
    "Classification metrics \n",
    "    AUC class\n",
    "    Precision class\n",
    "    Recall class\n",
    "    TruePositives class\n",
    "    TrueNegatives class\n",
    "    FalsePositives class\n",
    "    FalseNegatives class"
   ]
  },
  {
   "cell_type": "markdown",
   "id": "183c7cf0-ea71-4723-9382-54378b1429d7",
   "metadata": {},
   "source": [
    "<pre>\n",
    "tf.keras.metrics.Accuracy(name=\"accuracy\", dtype=None)\n",
    "\n",
    "\n",
    "def my_score(y_test, pred):\n",
    "    residuql = np.square(y_test, pred)\n",
    "    return np.sqrt(residuql)  # RMSE\n",
    "    \n",
    "model.compile(optimizer='adam',            \n",
    "            loss='binary_crossentropy',    \n",
    "            <b><font color=red>\n",
    "            metrics='accuracy')    --------주의 [  ]\n",
    "            metrics=['accuracy', 'recall'])             \n",
    "            metrics=[tensorflow.keras.metrics.Accuracy(),  tensorflow.keras.metrics.Recall()]\n",
    "            metrics=[my_score]\n",
    "            </font><b>\n",
    "            )"
   ]
  },
  {
   "cell_type": "markdown",
   "id": "8c824de7-0684-48c1-8831-98f2ed6a9aa5",
   "metadata": {},
   "source": [
    "# 문제지 답안지 분리"
   ]
  },
  {
   "cell_type": "code",
   "execution_count": 11,
   "id": "670665c0-bb69-4d6f-931b-4277592d99e2",
   "metadata": {},
   "outputs": [
    {
     "name": "stdout",
     "output_type": "stream",
     "text": [
      "(614, 8) (154, 8)\n"
     ]
    }
   ],
   "source": [
    "from sklearn.model_selection import train_test_split\n",
    "y = df['Outcome']\n",
    "X = df.drop(['Outcome'], axis=1)\n",
    "X_train, X_val, y_train, y_val = train_test_split(X, y, test_size=0.2, random_state=1234,  shuffle=False)\n",
    "print(X_train.shape, X_val.shape)"
   ]
  },
  {
   "cell_type": "markdown",
   "id": "3cea1eab-f268-4a86-96f7-5cd410979f0e",
   "metadata": {},
   "source": [
    "# 모델학습 & 평가"
   ]
  },
  {
   "cell_type": "code",
   "execution_count": 12,
   "id": "93c519e9-323e-4471-ae38-4f47678a808f",
   "metadata": {},
   "outputs": [
    {
     "name": "stdout",
     "output_type": "stream",
     "text": [
      "Epoch 1/10\n",
      "20/20 [==============================] - 1s 17ms/step - loss: 1.3109 - accuracy: 0.5537 - val_loss: 0.7464 - val_accuracy: 0.4026\n",
      "Epoch 2/10\n",
      "20/20 [==============================] - 0s 4ms/step - loss: 0.8538 - accuracy: 0.5179 - val_loss: 0.6880 - val_accuracy: 0.5584\n",
      "Epoch 3/10\n",
      "20/20 [==============================] - 0s 4ms/step - loss: 0.7129 - accuracy: 0.5749 - val_loss: 0.6678 - val_accuracy: 0.6429\n",
      "Epoch 4/10\n",
      "20/20 [==============================] - 0s 4ms/step - loss: 0.7151 - accuracy: 0.5570 - val_loss: 0.6704 - val_accuracy: 0.6104\n",
      "Epoch 5/10\n",
      "20/20 [==============================] - 0s 4ms/step - loss: 0.6911 - accuracy: 0.6124 - val_loss: 0.6682 - val_accuracy: 0.6429\n",
      "Epoch 6/10\n",
      "20/20 [==============================] - 0s 6ms/step - loss: 0.6755 - accuracy: 0.6189 - val_loss: 0.6632 - val_accuracy: 0.6364\n",
      "Epoch 7/10\n",
      "20/20 [==============================] - 0s 5ms/step - loss: 0.6714 - accuracy: 0.6417 - val_loss: 0.6582 - val_accuracy: 0.6429\n",
      "Epoch 8/10\n",
      "20/20 [==============================] - 0s 5ms/step - loss: 0.6597 - accuracy: 0.6319 - val_loss: 0.6536 - val_accuracy: 0.6169\n",
      "Epoch 9/10\n",
      "20/20 [==============================] - 0s 4ms/step - loss: 0.6640 - accuracy: 0.6450 - val_loss: 0.6536 - val_accuracy: 0.6299\n",
      "Epoch 10/10\n",
      "20/20 [==============================] - 0s 5ms/step - loss: 0.6552 - accuracy: 0.6596 - val_loss: 0.6489 - val_accuracy: 0.6753\n",
      "5/5 [==============================] - 0s 1ms/step - loss: 0.6489 - accuracy: 0.6753\n",
      "accuracy : [0.6488950848579407, 0.6753246784210205]\n"
     ]
    }
   ],
   "source": [
    "fit_res = model.fit(X_train, y_train \n",
    "                  #, batch_size=15\n",
    "                  , epochs=10\n",
    "                  , validation_data=(X_val, y_val)\n",
    "                 )\n",
    "\n",
    "loss, accuracy_score = model.evaluate(X_val, y_val)\n",
    "print(f\"accuracy : {accuracy_score}\")"
   ]
  },
  {
   "cell_type": "markdown",
   "id": "a01a417f-6ec6-46f6-ac93-d020f61e3f32",
   "metadata": {},
   "source": [
    "# 검증 \n",
    "* 모델의 과적합 , 적정 epoch 수 확인"
   ]
  },
  {
   "cell_type": "code",
   "execution_count": 13,
   "id": "c47367c2-60de-4b3c-aa3e-48334d92afdc",
   "metadata": {},
   "outputs": [],
   "source": [
    "# fit_res.history"
   ]
  },
  {
   "cell_type": "code",
   "execution_count": 14,
   "id": "e06b59a4-6280-4205-9912-29c9a38062d5",
   "metadata": {},
   "outputs": [
    {
     "data": {
      "image/png": "[encoded data removed]",
      "text/plain": [
       "<Figure size 432x288 with 1 Axes>"
      ]
     },
     "metadata": {
      "needs_background": "light"
     },
     "output_type": "display_data"
    }
   ],
   "source": [
    "vloss = fit_res.history[\"val_accuracy\"]\n",
    "loss = fit_res.history[\"accuracy\"]\n",
    "plt.plot(range(10),vloss , label=\"val acc\")\n",
    "plt.plot(range(10),loss  , label=\"real acc\")\n",
    "plt.legend()\n",
    "plt.show()\n"
   ]
  },
  {
   "cell_type": "code",
   "execution_count": 15,
   "id": "8a7a387d-5f4a-4a96-8fb2-cc9d34a60571",
   "metadata": {},
   "outputs": [
    {
     "data": {
      "image/png": "[encoded data removed]",
      "text/plain": [
       "<Figure size 432x288 with 1 Axes>"
      ]
     },
     "metadata": {
      "needs_background": "light"
     },
     "output_type": "display_data"
    }
   ],
   "source": [
    "vloss = fit_res.history[\"val_loss\"]\n",
    "loss = fit_res.history[\"loss\"]\n",
    "plt.plot(range(10),vloss , label=\"validation\")\n",
    "plt.plot(range(10),loss  , label=\"real\")\n",
    "plt.legend()\n",
    "plt.show()\n"
   ]
  },
  {
   "cell_type": "markdown",
   "id": "566445de-a50c-42e4-b370-dda36d7ec5c7",
   "metadata": {},
   "source": [
    "# 예측"
   ]
  },
  {
   "cell_type": "code",
   "execution_count": 16,
   "id": "d6fa597d-d751-4c7b-ba1b-d34b38eea0f8",
   "metadata": {},
   "outputs": [],
   "source": [
    "# test = pd.read_csv(\"test.csv\")\n",
    "# pred = model.predict(test)\n",
    "\n",
    "# sub = pd.read_csv(\"submit.csv\")\n",
    "# sub[\"target\"] = pred\n",
    "# sub.to_csv(\"lkh.csv\", index=False)"
   ]
  }
 ],
 "metadata": {
  "kernelspec": {
   "display_name": "Python 3 (ipykernel)",
   "language": "python",
   "name": "python3"
  },
  "language_info": {
   "codemirror_mode": {
    "name": "ipython",
    "version": 3
   },
   "file_extension": ".py",
   "mimetype": "text/x-python",
   "name": "python",
   "nbconvert_exporter": "python",
   "pygments_lexer": "ipython3",
   "version": "3.8.8"
  },
  "toc-autonumbering": true
 },
 "nbformat": 4,
 "nbformat_minor": 5
}
