{
 "cells": [
  {
   "cell_type": "markdown",
   "id": "d28fa436-5ceb-417c-839e-a848041b8d7f",
   "metadata": {},
   "source": [
    "<font size=6><b>lec. 금융 관련 API"
   ]
  },
  {
   "cell_type": "markdown",
   "id": "8edfeafa-a201-4c6e-bb44-99ee5187c744",
   "metadata": {},
   "source": [
    "* PyKRX\n",
    "    * https://github.com/sharebook-kr/pykrx\n",
    "* pandas_datareader + yfinance\n",
    "* finance_datareader\n",
    "* TA-LIB\n",
    "* quandle"
   ]
  },
  {
   "cell_type": "markdown",
   "id": "bdb4df1b-d997-4e3d-91b5-b166da502905",
   "metadata": {},
   "source": [
    "# pykrx"
   ]
  },
  {
   "cell_type": "markdown",
   "id": "7e992c63-5fac-408e-a92d-65b81e203c9e",
   "metadata": {},
   "source": [
    "# 주식관련"
   ]
  },
  {
   "cell_type": "code",
   "execution_count": 1,
   "id": "f29b40f8-ca0f-4ca6-9c3f-f6008c0ccf8a",
   "metadata": {},
   "outputs": [],
   "source": [
    "# ! pip install pykrx"
   ]
  },
  {
   "cell_type": "code",
   "execution_count": 2,
   "id": "01823b01-bdf5-4314-9474-8904c94df882",
   "metadata": {},
   "outputs": [],
   "source": [
    "from pykrx import stock\n",
    "from pykrx import bond"
   ]
  },
  {
   "cell_type": "code",
   "execution_count": 3,
   "id": "1c2b023a-c541-4047-bd5e-701847b28ff2",
   "metadata": {},
   "outputs": [
    {
     "name": "stdout",
     "output_type": "stream",
     "text": [
      "['060310', '054620', '265520', '211270', '035760'] 1328\n"
     ]
    }
   ],
   "source": [
    "#KOSPI*, KOSDAQ, KONEX, ALL\n",
    "tickers = stock.get_market_ticker_list(\"20190225\", market=\"KOSDAQ\")\n",
    "print(tickers[:5] , len(tickers))"
   ]
  },
  {
   "cell_type": "code",
   "execution_count": 4,
   "id": "055afb5c-ce39-4817-a850-80db592bbccf",
   "metadata": {},
   "outputs": [
    {
     "name": "stdout",
     "output_type": "stream",
     "text": [
      "['095570', '068400', '006840', '027410', '282330'] 901\n"
     ]
    }
   ],
   "source": [
    "tickers = stock.get_market_ticker_list(\"20190225\")\n",
    "print(tickers[:5] , len(tickers))"
   ]
  },
  {
   "cell_type": "code",
   "execution_count": 5,
   "id": "487ea82c-f96c-4284-9859-fd12b7c96fd3",
   "metadata": {},
   "outputs": [
    {
     "name": "stdout",
     "output_type": "stream",
     "text": [
      "['060310', '095570', '068400', '006840', '054620'] 2382\n"
     ]
    }
   ],
   "source": [
    "tickers = stock.get_market_ticker_list(\"20190225\", market=\"ALL\")\n",
    "print(tickers[:5] , len(tickers))"
   ]
  },
  {
   "cell_type": "code",
   "execution_count": 6,
   "id": "df05ab5f-d478-4aa3-b27a-335d1ee0fad6",
   "metadata": {},
   "outputs": [
    {
     "name": "stdout",
     "output_type": "stream",
     "text": [
      "삼성전자\n"
     ]
    }
   ],
   "source": [
    "종목 = stock.get_market_ticker_name('005930')\n",
    "print(종목)"
   ]
  },
  {
   "cell_type": "code",
   "execution_count": 7,
   "id": "f1db79d7-1b70-4881-8ae3-325b5603a102",
   "metadata": {},
   "outputs": [
    {
     "name": "stdout",
     "output_type": "stream",
     "text": [
      "095570 AJ네트웍스\n",
      "068400 SK렌터카\n",
      "006840 AK홀딩스\n",
      "027410 BGF\n",
      "282330 BGF리테일\n"
     ]
    }
   ],
   "source": [
    "for tcode in ['095570', '068400', '006840', '027410', '282330'] :\n",
    "    종목 = stock.get_market_ticker_name(tcode)\n",
    "    print(tcode, 종목)"
   ]
  },
  {
   "cell_type": "code",
   "execution_count": 8,
   "id": "36f2806e-23d9-4d7b-9827-f4c992783397",
   "metadata": {},
   "outputs": [
    {
     "name": "stdout",
     "output_type": "stream",
     "text": [
      "(16, 5)\n",
      "               시가     고가     저가     종가     거래량\n",
      "날짜                                            \n",
      "2015-07-20  25820  26080  25460  25500  128928\n",
      "2015-07-21  25500  25540  24940  25260  194055\n",
      "2015-07-22  24880  25200  24700  25060  268323\n"
     ]
    }
   ],
   "source": [
    "df = stock.get_market_ohlcv(\"20150720\", \"20150810\", \"005930\")\n",
    "print(df.shape)\n",
    "print(df.head(3))"
   ]
  },
  {
   "cell_type": "code",
   "execution_count": 9,
   "id": "2b53e4d9-687c-4e5a-8185-8298aacd1176",
   "metadata": {},
   "outputs": [
    {
     "name": "stdout",
     "output_type": "stream",
     "text": [
      "               시가     고가     저가     종가        거래량\n",
      "날짜                                               \n",
      "2018-08-31  46150  48450  43500  48450  135518029\n",
      "2018-09-30  48200  48300  44000  46450  197984482\n",
      "2018-10-31  46450  46800  40400  42400  234645485\n"
     ]
    }
   ],
   "source": [
    "# 월단위 :  frequency 파라미터(d/m/y)\n",
    "df = stock.get_market_ohlcv(\"20180810\", \"20181212\", \"005930\", \"m\")\n",
    "print(df.head(3))"
   ]
  },
  {
   "cell_type": "code",
   "execution_count": 10,
   "id": "055dad63-9c33-42c3-a564-af0ba484bf7b",
   "metadata": {},
   "outputs": [
    {
     "name": "stdout",
     "output_type": "stream",
     "text": [
      "0\n",
      "1\n",
      "2\n"
     ]
    }
   ],
   "source": [
    "import time\n",
    "for i in range(3):\n",
    "    print(i)\n",
    "    time.sleep(0.5)"
   ]
  },
  {
   "cell_type": "code",
   "execution_count": 11,
   "id": "1ef6268a-bd2d-4c84-a427-3b35a78c8c84",
   "metadata": {},
   "outputs": [
    {
     "name": "stdout",
     "output_type": "stream",
     "text": [
      "           종목명     시가     종가   변동폭    등락률      거래량         거래대금\n",
      "티커                                                             \n",
      "095570  AJ네트웍스   7550   7130  -420  -5.56   384948   2844218890\n",
      "068400   AJ렌터카  10900  12100  1200  11.01  3410074  40045884150\n"
     ]
    },
    {
     "name": "stderr",
     "output_type": "stream",
     "text": [
      "c:\\ai\\pythonproject7\\venv\\lib\\site-packages\\pykrx\\stock\\api.py:633: FutureWarning: The frame.append method is deprecated and will be removed from pandas in a future version. Use pandas.concat instead.\n",
      "  df_0 = df_0.append(df_1[cond])\n"
     ]
    }
   ],
   "source": [
    "# 일별 거래량 거래대금\n",
    "df = stock.get_market_price_change(\"20180301\", \"20180320\")\n",
    "print(df.head(2))"
   ]
  },
  {
   "cell_type": "markdown",
   "id": "74033b39-16d2-440d-abf4-a408212d640c",
   "metadata": {},
   "source": [
    "## 순매수 거래금액"
   ]
  },
  {
   "cell_type": "code",
   "execution_count": 12,
   "id": "c5900d3a-9db8-4957-89a5-105be2a79621",
   "metadata": {},
   "outputs": [
    {
     "name": "stdout",
     "output_type": "stream",
     "text": [
      "                     금융투자            보험            투신           사모  \\\n",
      "날짜                                                                   \n",
      "2021-01-15  -991569370471 -101879326615  -73654664921 -47097103944   \n",
      "2021-01-18  -234901037556  -72240710086  101791257920 -22451555756   \n",
      "2021-01-19  1095649201830  -16407303019 -132856710155  12116061569   \n",
      "2021-01-20  -642974676550  -63074125224  -93392192931  -2355882539   \n",
      "2021-01-21   354360314201 -107524405663  -12601355617  21898580074   \n",
      "\n",
      "                      은행          기타금융           연기금         기타법인  \\\n",
      "날짜                                                                  \n",
      "2021-01-15  202104737955   -4226413080 -520248168365  63110174617   \n",
      "2021-01-18   29622542645    9331964150 -412580572674 -27000808439   \n",
      "2021-01-19    1776752770   -1933723125 -413689873532  21787409868   \n",
      "2021-01-20  -17889264145   -1573759250 -406382571980  32139813590   \n",
      "2021-01-21 -113225122905 -158268629075 -269539273337 -19072459127   \n",
      "\n",
      "                       개인           외국인       기타외국인  전체  \n",
      "날짜                                                       \n",
      "2021-01-15  2251672617980 -780253717173  2041234017   0  \n",
      "2021-01-18   494341183227  132145345642  1942390927   0  \n",
      "2021-01-19  -968965427363  401864885550   658725607   0  \n",
      "2021-01-20  1444113501769 -250687123305  2076280565   0  \n",
      "2021-01-21   -61503500921  363801344664  1674507706   0  \n"
     ]
    }
   ],
   "source": [
    "# df = stock.get_market_trading_value_by_date(\"20210115\", \"20210122\", \"005930\", on='매도')\n",
    "# df = stock.get_market_trading_value_by_date(\"20210115\", \"20210122\", \"005930\")\n",
    "# df = stock.get_market_trading_value_by_date(\"20210115\", \"20210122\", \"005930\",etf=True, etn=True, elw=True)\n",
    "df = stock.get_market_trading_value_by_date(\"20210115\", \"20210122\", \"KOSPI\", etf=True, etn=True, elw=True, detail=True)\n",
    "print(df.head())"
   ]
  },
  {
   "cell_type": "markdown",
   "id": "0ad08b12-c549-40ff-ab31-1f683c3da643",
   "metadata": {},
   "source": [
    "## 거래량"
   ]
  },
  {
   "cell_type": "code",
   "execution_count": 13,
   "id": "cdc44a6e-a4c0-41a5-a4ac-180503446866",
   "metadata": {},
   "outputs": [
    {
     "name": "stdout",
     "output_type": "stream",
     "text": [
      "               기관합계    기타법인       개인    외국인합계  전체\n",
      "날짜                                               \n",
      "2021-01-15 -5006115  288832  7485785 -2768502   0\n",
      "2021-01-18   505669  262604   151228  -919501   0\n",
      "2021-01-19  1139258  -34023 -2044543   939308   0\n",
      "2021-01-20 -4157919  262408  4917655 -1022144   0\n",
      "2021-01-21  -712099 -321732  2890389 -1856558   0\n"
     ]
    }
   ],
   "source": [
    "df = stock.get_market_trading_volume_by_date(\"20210115\", \"20210122\", \"005930\")\n",
    "print(df.head())"
   ]
  },
  {
   "cell_type": "code",
   "execution_count": 14,
   "id": "f82e1217-b734-4566-adf3-05a498ec16bc",
   "metadata": {},
   "outputs": [],
   "source": [
    "# 상폐종목\n",
    "# 종가가 0, 등락폭이 -100%"
   ]
  },
  {
   "cell_type": "code",
   "execution_count": 15,
   "id": "b2a15b02-bab4-4073-b55c-fb2ad9c8e205",
   "metadata": {},
   "outputs": [
    {
     "name": "stdout",
     "output_type": "stream",
     "text": [
      "              BPS    PER   PBR   EPS   DIV   DPS\n",
      "날짜                                              \n",
      "2021-01-04  37528  26.22  2.21  3166  1.71  1416\n",
      "2021-01-05  37528  26.50  2.24  3166  1.69  1416\n"
     ]
    }
   ],
   "source": [
    "# 대체 데이터 \n",
    "# df = stock.get_market_fundamental(\"20210108\")\n",
    "df = stock.get_market_fundamental(\"20210104\", \"20210108\", \"005930\")\n",
    "print(df.head(2))"
   ]
  },
  {
   "cell_type": "code",
   "execution_count": 16,
   "id": "137fe693-e112-42e8-9dc6-b59a54671191",
   "metadata": {},
   "outputs": [
    {
     "name": "stdout",
     "output_type": "stream",
     "text": [
      "                  매도             매수           순매수\n",
      "투자자구분                                            \n",
      "금융투자   2580964135000  2309054317700 -271909817300\n",
      "보험      153322228800    44505136200 -108817092600\n",
      "투신      258073006600   150715203700 -107357802900\n",
      "사모       65167773900    60862926800   -4304847100\n",
      "은행        3369626100     4004806100     635180000\n"
     ]
    }
   ],
   "source": [
    "# 2.1.1.9 투자자별 거래실적 추이 (거래대금)\n",
    "df = stock.get_market_trading_value_by_investor(\"20210115\", \"20210122\", \"005930\")\n",
    "# df = stock.get_market_trading_volume_by_investor(\"20210115\", \"20210122\", \"005930\")\n",
    "print(df.head())"
   ]
  },
  {
   "cell_type": "markdown",
   "id": "0413add5-99b1-468e-b5c0-2811c61ab5fa",
   "metadata": {},
   "source": [
    "## 중요 - 투자자별매매동향"
   ]
  },
  {
   "cell_type": "code",
   "execution_count": 17,
   "id": "0453f7cd-b194-4862-8d1c-4ee3f9ed4a8d",
   "metadata": {},
   "outputs": [
    {
     "name": "stdout",
     "output_type": "stream",
     "text": [
      "            종목명     매도거래량      매수거래량    순매수거래량         매도거래대금         매수거래대금  \\\n",
      "티커                                                                             \n",
      "005930     삼성전자  79567418  102852747  23285329  6918846810800  8972911580500   \n",
      "000270      기아차  44440252   49880626   5440374  3861283906400  4377698855000   \n",
      "005935    삼성전자우  15849762   20011325   4161563  1207133611400  1528694164400   \n",
      "051910     LG화학    709872     921975    212103   700823533000   908593419000   \n",
      "096770  SK이노베이션   4848359    5515777    667418  1298854139000  1478890602000   \n",
      "\n",
      "              순매수거래대금  \n",
      "티커                     \n",
      "005930  2054064769700  \n",
      "000270   516414948600  \n",
      "005935   321560553000  \n",
      "051910   207769886000  \n",
      "096770   180036463000  \n"
     ]
    }
   ],
   "source": [
    "# 금융투자 / 보험 / 투신 / 사모 / 은행 / 기타금융 / 연기금 / 기관합계 / 기타법인 / 개인 / 외국인 / 기타외국인 / 전체\n",
    "# 투자자별 순매수 상위종목\n",
    "# 투자종목소팅 + ohlcv\n",
    "df = stock.get_market_net_purchases_of_equities(\"20210115\", \"20210122\", \"KOSPI\", \"개인\")\n",
    "print(df.head())"
   ]
  },
  {
   "cell_type": "code",
   "execution_count": 18,
   "id": "6273579d-4494-412d-b0a7-27ad35341d2e",
   "metadata": {},
   "outputs": [
    {
     "name": "stdout",
     "output_type": "stream",
     "text": [
      "                       시가총액        거래량            거래대금       상장주식수\n",
      "날짜                                                                \n",
      "2020-01-31  336695735820000  319891636  18809460519447  5969782550\n",
      "2020-02-29  323562214210000  360007160  21055346438502  5969782550\n",
      "2020-03-31  285057116762500  856741868  42269216023680  5969782550\n",
      "2020-04-30  298489127500000  424101937  20785194256247  5969782550\n"
     ]
    }
   ],
   "source": [
    "# 종목별 시가 총액 조회 , 외인D-2\n",
    "\n",
    "# df = stock.get_market_cap(\"20200625\")\n",
    "# df = stock.get_market_cap(\"20190101\", \"20190131\", \"005930\")\n",
    "df = stock.get_market_cap(\"20200101\", \"20200430\", \"005930\", \"m\")\n",
    "\n",
    "print(df.head())"
   ]
  },
  {
   "cell_type": "markdown",
   "id": "280f10a9-a784-4717-b82b-e276c22c4053",
   "metadata": {},
   "source": [
    "# 섹터(지수)"
   ]
  },
  {
   "cell_type": "code",
   "execution_count": 19,
   "id": "f1470287-e987-4727-ae09-91459cf9bcb5",
   "metadata": {},
   "outputs": [
    {
     "name": "stdout",
     "output_type": "stream",
     "text": [
      "['2001', '2002', '2003', '2004', '2012', '2015', '2024', '2026', '2027', '2029', '2031', '2037', '2041', '2042', '2043', '2056', '2058', '2062', '2063', '2065', '2066', '2067', '2068', '2070', '2072', '2074', '2075', '2077', '2151', '2152', '2153', '2154', '2155', '2156', '2157', '2158', '2159', '2160', '2181', '2182', '2183', '2184', '2203', '2212', '2213', '2214', '2215', '2216', '2217', '2218']\n"
     ]
    }
   ],
   "source": [
    "tickers = stock.get_index_ticker_list(\"202000408\", market='KOSDAQ')\n",
    "print(tickers)"
   ]
  },
  {
   "cell_type": "markdown",
   "id": "965fa90e-ad8b-43e3-9477-a05332f8f3a5",
   "metadata": {},
   "source": [
    "## 종목별 섹터확인"
   ]
  },
  {
   "cell_type": "code",
   "execution_count": 20,
   "id": "c076d51f-f1c2-48c2-83a8-14940dcb2cb2",
   "metadata": {},
   "outputs": [
    {
     "name": "stdout",
     "output_type": "stream",
     "text": [
      "2001 코스닥\n",
      "2002 코스닥 대형주\n",
      "2003 코스닥 중형주\n",
      "2004 코스닥 소형주\n",
      "2012 기타서비스\n",
      "2015 코스닥 IT\n",
      "2024 제조업\n",
      "2026 건설\n",
      "2027 유통\n",
      "2029 운송\n",
      "2031 금융\n",
      "2037 오락·문화\n",
      "2041 통신방송서비스\n",
      "2042 IT S/W & SVC\n",
      "2043 IT H/W\n",
      "2056 음식료·담배\n",
      "2058 섬유·의류\n",
      "2062 종이·목재\n",
      "2063 출판·매체복제\n",
      "2065 화학\n",
      "2066 제약\n",
      "2067 비금속\n",
      "2068 금속\n",
      "2070 기계·장비\n",
      "2072 일반전기전자\n",
      "2074 의료·정밀기기\n",
      "2075 운송장비·부품\n",
      "2077 기타제조\n",
      "2151 통신서비스\n",
      "2152 방송서비스\n",
      "2153 인터넷\n",
      "2154 디지털컨텐츠\n",
      "2155 소프트웨어\n",
      "2156 컴퓨터서비스\n",
      "2157 통신장비\n",
      "2158 정보기기\n",
      "2159 반도체\n",
      "2160 IT부품\n",
      "2181 코스닥 우량기업부\n",
      "2182 코스닥 벤처기업부\n",
      "2183 코스닥 중견기업부\n",
      "2184 코스닥 기술성장기업부\n",
      "2203 코스닥 150\n",
      "2212 코스닥 150 소재\n",
      "2213 코스닥 150 산업재\n",
      "2214 코스닥 150 필수소비재\n",
      "2215 코스닥 150 자유소비재\n",
      "2216 코스닥 150 정보기술\n",
      "2217 코스닥 150 헬스케어\n",
      "2218 코스닥 150 커뮤니케이션서비스\n"
     ]
    }
   ],
   "source": [
    "for ticker in stock.get_index_ticker_list(\"20220919\", market='KOSDAQ'):\n",
    "    print(ticker, stock.get_index_ticker_name(ticker))"
   ]
  },
  {
   "cell_type": "code",
   "execution_count": null,
   "id": "a958a975-93f5-4f87-98a5-dd8dba51a9e6",
   "metadata": {},
   "outputs": [],
   "source": []
  },
  {
   "cell_type": "markdown",
   "id": "9482eb76-8bd2-452a-9f08-97d97ddae51e",
   "metadata": {},
   "source": [
    "# [Quiz] 코스닥.. 외국인 거래대금 가장많은 철강금속 top10 조회"
   ]
  },
  {
   "cell_type": "code",
   "execution_count": 21,
   "id": "9f8ea771-c68c-4299-a548-d61739b0f529",
   "metadata": {},
   "outputs": [
    {
     "data": {
      "text/html": [
       "<div>\n",
       "<style scoped>\n",
       "    .dataframe tbody tr th:only-of-type {\n",
       "        vertical-align: middle;\n",
       "    }\n",
       "\n",
       "    .dataframe tbody tr th {\n",
       "        vertical-align: top;\n",
       "    }\n",
       "\n",
       "    .dataframe thead th {\n",
       "        text-align: right;\n",
       "    }\n",
       "</style>\n",
       "<table border=\"1\" class=\"dataframe\">\n",
       "  <thead>\n",
       "    <tr style=\"text-align: right;\">\n",
       "      <th></th>\n",
       "      <th>종목명_x</th>\n",
       "      <th>순매수거래대금</th>\n",
       "    </tr>\n",
       "    <tr>\n",
       "      <th>티커</th>\n",
       "      <th></th>\n",
       "      <th></th>\n",
       "    </tr>\n",
       "  </thead>\n",
       "  <tbody>\n",
       "    <tr>\n",
       "      <th>086520</th>\n",
       "      <td>에코프로</td>\n",
       "      <td>11621924800</td>\n",
       "    </tr>\n",
       "    <tr>\n",
       "      <th>247540</th>\n",
       "      <td>에코프로비엠</td>\n",
       "      <td>11049070800</td>\n",
       "    </tr>\n",
       "    <tr>\n",
       "      <th>035900</th>\n",
       "      <td>JYP Ent.</td>\n",
       "      <td>5972075200</td>\n",
       "    </tr>\n",
       "    <tr>\n",
       "      <th>365340</th>\n",
       "      <td>성일하이텍</td>\n",
       "      <td>5907902000</td>\n",
       "    </tr>\n",
       "    <tr>\n",
       "      <th>323990</th>\n",
       "      <td>박셀바이오</td>\n",
       "      <td>4756663700</td>\n",
       "    </tr>\n",
       "  </tbody>\n",
       "</table>\n",
       "</div>"
      ],
      "text/plain": [
       "           종목명_x      순매수거래대금\n",
       "티커                           \n",
       "086520      에코프로  11621924800\n",
       "247540    에코프로비엠  11049070800\n",
       "035900  JYP Ent.   5972075200\n",
       "365340     성일하이텍   5907902000\n",
       "323990     박셀바이오   4756663700"
      ]
     },
     "execution_count": 21,
     "metadata": {},
     "output_type": "execute_result"
    }
   ],
   "source": [
    "import pandas as  pd\n",
    "# 금융투자 / 보험 / 투신 / 사모 / 은행 / 기타금융 / 연기금 / 기관합계 / 기타법인 / 개인 / 외국인 / 기타외국인 / 전체\n",
    "# 투자자별 순매수 상위종목\n",
    "# 투자종목소팅 + ohlcv\n",
    "df_외국인 = stock.get_market_net_purchases_of_equities(\"20220919\",\"20220919\", \"KOSDAQ\", \"외국인\")\n",
    "df_기타외국인 = stock.get_market_net_purchases_of_equities(\"20220919\", \"20220919\", \"KOSDAQ\", \"기타외국인\")\n",
    "\n",
    "mgdf = pd.merge(df_외국인, df_기타외국인, left_index=True, right_index=True)\n",
    "# mgdf.head()\n",
    "mgdf[['종목명_x','순매수거래대금_x', '순매수거래대금_y']].head()\n",
    "mgdf['순매수거래대금'] = mgdf['순매수거래대금_x'] + mgdf['순매수거래대금_y']\n",
    "\n",
    "mgdf[['종목명_x','순매수거래대금']].head()"
   ]
  },
  {
   "cell_type": "code",
   "execution_count": 22,
   "id": "db54c024-1423-4928-b5b5-04135f85a28a",
   "metadata": {},
   "outputs": [],
   "source": [
    "# for ticker in stock.get_index_ticker_list(\"20220917\", market='KOSDAQ'):  #2068 금속\n",
    "#     print(ticker, stock.get_index_ticker_name(ticker))"
   ]
  },
  {
   "cell_type": "code",
   "execution_count": 47,
   "id": "d31b6c93-1567-4d23-a50e-0b99dacf56d1",
   "metadata": {},
   "outputs": [
    {
     "name": "stdout",
     "output_type": "stream",
     "text": [
      "110 ['068760', '237690', '214370', '096530', '145020', '007390', '195940', '298380', '085660', '086450', '086900', '000250', '200130', '064550', '214450', '182400', '290650', '039200', '102940', '206650', '099430', '256840', '041960', '307750', '205470', '053030', '243070', '310210', '058820', '048530', '246710', '340570', '174900', '078160', '032300', '314130', '216080', '084110', '263050', '011040', '206640', '228760', '086890', '067080', '138610', '200670', '334970', '288330', '049180', '220100', '060590', '006620', '187420', '087010', '251120', '067290', '061250', '023910', '166480', '308080', '054670', '244460', '066700', '234690', '191420', '100700', '142280', '175250', '153710', '241820', '072020', '217730', '001540', '086820', '049960', '225220', '131030', '012790', '330350', '042520', '304840', '009300', '041910', '260660', '078140', '208340', '014570', '298060', '034940', '007370', '002800', '200780', '106190', '222110', '114450', '053950', '331920', '307280', '018620', '052670', '059210', '229000', '196300', '080720', '246720', '036480', '246960', '183490', '018680', '179530']\n"
     ]
    }
   ],
   "source": [
    "금속_ticer_list = stock.get_index_portfolio_deposit_file(\"2066\") #2068 금속\n",
    "print(len(금속_ticer_list), 금속_ticer_list)"
   ]
  },
  {
   "cell_type": "code",
   "execution_count": 48,
   "id": "85275105-9889-49fc-aab4-b27156c4bb6a",
   "metadata": {},
   "outputs": [
    {
     "data": {
      "text/html": [
       "<div>\n",
       "<style scoped>\n",
       "    .dataframe tbody tr th:only-of-type {\n",
       "        vertical-align: middle;\n",
       "    }\n",
       "\n",
       "    .dataframe tbody tr th {\n",
       "        vertical-align: top;\n",
       "    }\n",
       "\n",
       "    .dataframe thead th {\n",
       "        text-align: right;\n",
       "    }\n",
       "</style>\n",
       "<table border=\"1\" class=\"dataframe\">\n",
       "  <thead>\n",
       "    <tr style=\"text-align: right;\">\n",
       "      <th></th>\n",
       "      <th>종목명_x</th>\n",
       "      <th>순매수거래대금</th>\n",
       "    </tr>\n",
       "    <tr>\n",
       "      <th>티커</th>\n",
       "      <th></th>\n",
       "      <th></th>\n",
       "    </tr>\n",
       "  </thead>\n",
       "  <tbody>\n",
       "    <tr>\n",
       "      <th>099430</th>\n",
       "      <td>바이오플러스</td>\n",
       "      <td>-2833939150</td>\n",
       "    </tr>\n",
       "    <tr>\n",
       "      <th>064550</th>\n",
       "      <td>바이오니아</td>\n",
       "      <td>-2120729750</td>\n",
       "    </tr>\n",
       "    <tr>\n",
       "      <th>007390</th>\n",
       "      <td>네이처셀</td>\n",
       "      <td>-2096739600</td>\n",
       "    </tr>\n",
       "    <tr>\n",
       "      <th>086900</th>\n",
       "      <td>메디톡스</td>\n",
       "      <td>-1197879700</td>\n",
       "    </tr>\n",
       "    <tr>\n",
       "      <th>068760</th>\n",
       "      <td>셀트리온제약</td>\n",
       "      <td>-793345900</td>\n",
       "    </tr>\n",
       "    <tr>\n",
       "      <th>307750</th>\n",
       "      <td>국전약품</td>\n",
       "      <td>-752090040</td>\n",
       "    </tr>\n",
       "    <tr>\n",
       "      <th>290650</th>\n",
       "      <td>엘앤씨바이오</td>\n",
       "      <td>-714844200</td>\n",
       "    </tr>\n",
       "    <tr>\n",
       "      <th>000250</th>\n",
       "      <td>삼천당제약</td>\n",
       "      <td>-697127950</td>\n",
       "    </tr>\n",
       "    <tr>\n",
       "      <th>085660</th>\n",
       "      <td>차바이오텍</td>\n",
       "      <td>-565902050</td>\n",
       "    </tr>\n",
       "    <tr>\n",
       "      <th>048530</th>\n",
       "      <td>인트론바이오</td>\n",
       "      <td>-438467600</td>\n",
       "    </tr>\n",
       "  </tbody>\n",
       "</table>\n",
       "</div>"
      ],
      "text/plain": [
       "         종목명_x     순매수거래대금\n",
       "티커                        \n",
       "099430  바이오플러스 -2833939150\n",
       "064550   바이오니아 -2120729750\n",
       "007390    네이처셀 -2096739600\n",
       "086900    메디톡스 -1197879700\n",
       "068760  셀트리온제약  -793345900\n",
       "307750    국전약품  -752090040\n",
       "290650  엘앤씨바이오  -714844200\n",
       "000250   삼천당제약  -697127950\n",
       "085660   차바이오텍  -565902050\n",
       "048530  인트론바이오  -438467600"
      ]
     },
     "execution_count": 48,
     "metadata": {},
     "output_type": "execute_result"
    }
   ],
   "source": [
    "mgdf[mgdf.index.isin(금속_ticer_list)][['종목명_x','순매수거래대금']].sort_values(\"순매수거래대금\").head(10)"
   ]
  },
  {
   "cell_type": "markdown",
   "id": "85c2b0ef-742d-48a1-ac70-cb904bfa3fa7",
   "metadata": {},
   "source": [
    "* by 인서"
   ]
  },
  {
   "cell_type": "code",
   "execution_count": null,
   "id": "81e4c353-bd73-4162-86aa-3c774dc08dd8",
   "metadata": {},
   "outputs": [],
   "source": [
    "# stock_dict = {}\n",
    "# for ticker_code in stock.get_index_portfolio_deposit_file(\"2068\"):  #62개 티거\n",
    "#     df = stock.get_market_trading_value_by_investor(fromdate = '20220919',todate = '20220919',ticker=ticker_code)\n",
    "#     stock_dict[stock.get_market_ticker_name(ticker_code)] = df.loc[['외국인', '기타외국인'], '순매수'].sum()\n",
    "# dict(sorted(stock_dict.items(), key=lambda item: item[1], reverse=True)) #[-10:])\n"
   ]
  },
  {
   "cell_type": "markdown",
   "id": "20bd1cf4-8e33-485f-857e-52363809d514",
   "metadata": {},
   "source": [
    "# [Quiz] KOSPI 오늘 날짜 기준 최대 거래량 섹터/종목 top5"
   ]
  },
  {
   "cell_type": "markdown",
   "id": "c58d121c-6dc0-461e-9636-92a3e97f7cc4",
   "metadata": {},
   "source": [
    "* 섹터"
   ]
  },
  {
   "cell_type": "code",
   "execution_count": 49,
   "id": "9df5d950-cbb8-40e8-be2b-648be1c5b147",
   "metadata": {},
   "outputs": [
    {
     "data": {
      "text/html": [
       "<div>\n",
       "<style scoped>\n",
       "    .dataframe tbody tr th:only-of-type {\n",
       "        vertical-align: middle;\n",
       "    }\n",
       "\n",
       "    .dataframe tbody tr th {\n",
       "        vertical-align: top;\n",
       "    }\n",
       "\n",
       "    .dataframe thead th {\n",
       "        text-align: right;\n",
       "    }\n",
       "</style>\n",
       "<table border=\"1\" class=\"dataframe\">\n",
       "  <thead>\n",
       "    <tr style=\"text-align: right;\">\n",
       "      <th></th>\n",
       "      <th>시가</th>\n",
       "      <th>종가</th>\n",
       "      <th>등락률</th>\n",
       "      <th>거래량</th>\n",
       "      <th>거래대금</th>\n",
       "    </tr>\n",
       "    <tr>\n",
       "      <th>지수명</th>\n",
       "      <th></th>\n",
       "      <th></th>\n",
       "      <th></th>\n",
       "      <th></th>\n",
       "      <th></th>\n",
       "    </tr>\n",
       "  </thead>\n",
       "  <tbody>\n",
       "    <tr>\n",
       "      <th>코스피</th>\n",
       "      <td>2382.78</td>\n",
       "      <td>2355.66</td>\n",
       "      <td>-1.139648</td>\n",
       "      <td>403937473</td>\n",
       "      <td>6885918719312</td>\n",
       "    </tr>\n",
       "    <tr>\n",
       "      <th>코스피200제외 코스피지수</th>\n",
       "      <td>3122.15</td>\n",
       "      <td>3069.23</td>\n",
       "      <td>-1.690430</td>\n",
       "      <td>299785102</td>\n",
       "      <td>1970185439710</td>\n",
       "    </tr>\n",
       "    <tr>\n",
       "      <th>제조업</th>\n",
       "      <td>6198.82</td>\n",
       "      <td>6130.61</td>\n",
       "      <td>-1.099609</td>\n",
       "      <td>298743605</td>\n",
       "      <td>5230833176393</td>\n",
       "    </tr>\n",
       "    <tr>\n",
       "      <th>코스피 소형주</th>\n",
       "      <td>2293.15</td>\n",
       "      <td>2246.64</td>\n",
       "      <td>-2.029297</td>\n",
       "      <td>268078173</td>\n",
       "      <td>1411668410445</td>\n",
       "    </tr>\n",
       "    <tr>\n",
       "      <th>코스피 200</th>\n",
       "      <td>308.69</td>\n",
       "      <td>306.49</td>\n",
       "      <td>-0.709961</td>\n",
       "      <td>101185844</td>\n",
       "      <td>4835820924025</td>\n",
       "    </tr>\n",
       "    <tr>\n",
       "      <th>코스피 200 비중상한 20%</th>\n",
       "      <td>299.79</td>\n",
       "      <td>297.31</td>\n",
       "      <td>-0.830078</td>\n",
       "      <td>101185844</td>\n",
       "      <td>4835820924025</td>\n",
       "    </tr>\n",
       "    <tr>\n",
       "      <th>코스피 200 비중상한 25%</th>\n",
       "      <td>306.24</td>\n",
       "      <td>303.91</td>\n",
       "      <td>-0.759766</td>\n",
       "      <td>101185844</td>\n",
       "      <td>4835820924025</td>\n",
       "    </tr>\n",
       "    <tr>\n",
       "      <th>코스피 200 비중상한 30%</th>\n",
       "      <td>308.13</td>\n",
       "      <td>305.94</td>\n",
       "      <td>-0.709961</td>\n",
       "      <td>101185844</td>\n",
       "      <td>4835820924025</td>\n",
       "    </tr>\n",
       "    <tr>\n",
       "      <th>코스피 200 초대형제외 지수</th>\n",
       "      <td>233.42</td>\n",
       "      <td>230.85</td>\n",
       "      <td>-1.099609</td>\n",
       "      <td>88907191</td>\n",
       "      <td>4142184244025</td>\n",
       "    </tr>\n",
       "    <tr>\n",
       "      <th>코스피 대형주</th>\n",
       "      <td>2343.01</td>\n",
       "      <td>2318.98</td>\n",
       "      <td>-1.030273</td>\n",
       "      <td>67772949</td>\n",
       "      <td>4096462802234</td>\n",
       "    </tr>\n",
       "    <tr>\n",
       "      <th>코스피 중형주</th>\n",
       "      <td>2768.49</td>\n",
       "      <td>2727.64</td>\n",
       "      <td>-1.480469</td>\n",
       "      <td>64590657</td>\n",
       "      <td>1286148543406</td>\n",
       "    </tr>\n",
       "    <tr>\n",
       "      <th>기계</th>\n",
       "      <td>968.11</td>\n",
       "      <td>941.08</td>\n",
       "      <td>-2.789062</td>\n",
       "      <td>63647606</td>\n",
       "      <td>328081680385</td>\n",
       "    </tr>\n",
       "    <tr>\n",
       "      <th>코스피 100</th>\n",
       "      <td>2318.63</td>\n",
       "      <td>2304.20</td>\n",
       "      <td>-0.620117</td>\n",
       "      <td>62156511</td>\n",
       "      <td>3889279793984</td>\n",
       "    </tr>\n",
       "    <tr>\n",
       "      <th>철강금속</th>\n",
       "      <td>4274.08</td>\n",
       "      <td>4170.63</td>\n",
       "      <td>-2.419922</td>\n",
       "      <td>53151971</td>\n",
       "      <td>354302785504</td>\n",
       "    </tr>\n",
       "    <tr>\n",
       "      <th>화학</th>\n",
       "      <td>5485.39</td>\n",
       "      <td>5412.43</td>\n",
       "      <td>-1.330078</td>\n",
       "      <td>51389844</td>\n",
       "      <td>1230129619374</td>\n",
       "    </tr>\n",
       "    <tr>\n",
       "      <th>전기전자</th>\n",
       "      <td>22770.03</td>\n",
       "      <td>22514.70</td>\n",
       "      <td>-1.120117</td>\n",
       "      <td>45505199</td>\n",
       "      <td>1800713019058</td>\n",
       "    </tr>\n",
       "    <tr>\n",
       "      <th>금융업</th>\n",
       "      <td>347.39</td>\n",
       "      <td>344.33</td>\n",
       "      <td>-0.879883</td>\n",
       "      <td>41773228</td>\n",
       "      <td>549568846729</td>\n",
       "    </tr>\n",
       "    <tr>\n",
       "      <th>코스피 200 중소형주</th>\n",
       "      <td>1153.52</td>\n",
       "      <td>1132.48</td>\n",
       "      <td>-1.820312</td>\n",
       "      <td>39029333</td>\n",
       "      <td>946541130041</td>\n",
       "    </tr>\n",
       "    <tr>\n",
       "      <th>코스피 50</th>\n",
       "      <td>2112.14</td>\n",
       "      <td>2100.53</td>\n",
       "      <td>-0.549805</td>\n",
       "      <td>33771698</td>\n",
       "      <td>2890613824410</td>\n",
       "    </tr>\n",
       "    <tr>\n",
       "      <th>운수장비</th>\n",
       "      <td>2064.80</td>\n",
       "      <td>2049.60</td>\n",
       "      <td>-0.740234</td>\n",
       "      <td>33220135</td>\n",
       "      <td>856132655658</td>\n",
       "    </tr>\n",
       "    <tr>\n",
       "      <th>코스피 200 산업재</th>\n",
       "      <td>611.72</td>\n",
       "      <td>593.90</td>\n",
       "      <td>-2.910156</td>\n",
       "      <td>22903866</td>\n",
       "      <td>810692408820</td>\n",
       "    </tr>\n",
       "    <tr>\n",
       "      <th>유통업</th>\n",
       "      <td>337.63</td>\n",
       "      <td>334.96</td>\n",
       "      <td>-0.790039</td>\n",
       "      <td>22116520</td>\n",
       "      <td>232222099807</td>\n",
       "    </tr>\n",
       "    <tr>\n",
       "      <th>비금속광물</th>\n",
       "      <td>2717.73</td>\n",
       "      <td>2705.36</td>\n",
       "      <td>-0.459961</td>\n",
       "      <td>19003049</td>\n",
       "      <td>228825985316</td>\n",
       "    </tr>\n",
       "    <tr>\n",
       "      <th>코스피 200 정보기술</th>\n",
       "      <td>2795.90</td>\n",
       "      <td>2783.82</td>\n",
       "      <td>-0.429932</td>\n",
       "      <td>18181064</td>\n",
       "      <td>1237969661500</td>\n",
       "    </tr>\n",
       "    <tr>\n",
       "      <th>서비스업</th>\n",
       "      <td>1222.28</td>\n",
       "      <td>1202.93</td>\n",
       "      <td>-1.580078</td>\n",
       "      <td>18078618</td>\n",
       "      <td>543650964265</td>\n",
       "    </tr>\n",
       "    <tr>\n",
       "      <th>코스피 200 TOP 10</th>\n",
       "      <td>1232.53</td>\n",
       "      <td>1229.38</td>\n",
       "      <td>-0.260010</td>\n",
       "      <td>18007605</td>\n",
       "      <td>1552137892500</td>\n",
       "    </tr>\n",
       "    <tr>\n",
       "      <th>코스피 200 중공업</th>\n",
       "      <td>283.08</td>\n",
       "      <td>274.96</td>\n",
       "      <td>-2.869141</td>\n",
       "      <td>17180296</td>\n",
       "      <td>423352660300</td>\n",
       "    </tr>\n",
       "    <tr>\n",
       "      <th>운수창고업</th>\n",
       "      <td>1711.53</td>\n",
       "      <td>1659.69</td>\n",
       "      <td>-3.029297</td>\n",
       "      <td>10340713</td>\n",
       "      <td>138550078285</td>\n",
       "    </tr>\n",
       "    <tr>\n",
       "      <th>코스피 200 금융</th>\n",
       "      <td>578.32</td>\n",
       "      <td>575.46</td>\n",
       "      <td>-0.489990</td>\n",
       "      <td>9583274</td>\n",
       "      <td>222471471069</td>\n",
       "    </tr>\n",
       "    <tr>\n",
       "      <th>의약품</th>\n",
       "      <td>14072.17</td>\n",
       "      <td>14009.98</td>\n",
       "      <td>-0.439941</td>\n",
       "      <td>8119666</td>\n",
       "      <td>240551711780</td>\n",
       "    </tr>\n",
       "  </tbody>\n",
       "</table>\n",
       "</div>"
      ],
      "text/plain": [
       "                        시가        종가       등락률        거래량           거래대금\n",
       "지수명                                                                     \n",
       "코스피                2382.78   2355.66 -1.139648  403937473  6885918719312\n",
       "코스피200제외 코스피지수     3122.15   3069.23 -1.690430  299785102  1970185439710\n",
       "제조업                6198.82   6130.61 -1.099609  298743605  5230833176393\n",
       "코스피 소형주            2293.15   2246.64 -2.029297  268078173  1411668410445\n",
       "코스피 200             308.69    306.49 -0.709961  101185844  4835820924025\n",
       "코스피 200 비중상한 20%    299.79    297.31 -0.830078  101185844  4835820924025\n",
       "코스피 200 비중상한 25%    306.24    303.91 -0.759766  101185844  4835820924025\n",
       "코스피 200 비중상한 30%    308.13    305.94 -0.709961  101185844  4835820924025\n",
       "코스피 200 초대형제외 지수    233.42    230.85 -1.099609   88907191  4142184244025\n",
       "코스피 대형주            2343.01   2318.98 -1.030273   67772949  4096462802234\n",
       "코스피 중형주            2768.49   2727.64 -1.480469   64590657  1286148543406\n",
       "기계                  968.11    941.08 -2.789062   63647606   328081680385\n",
       "코스피 100            2318.63   2304.20 -0.620117   62156511  3889279793984\n",
       "철강금속               4274.08   4170.63 -2.419922   53151971   354302785504\n",
       "화학                 5485.39   5412.43 -1.330078   51389844  1230129619374\n",
       "전기전자              22770.03  22514.70 -1.120117   45505199  1800713019058\n",
       "금융업                 347.39    344.33 -0.879883   41773228   549568846729\n",
       "코스피 200 중소형주       1153.52   1132.48 -1.820312   39029333   946541130041\n",
       "코스피 50             2112.14   2100.53 -0.549805   33771698  2890613824410\n",
       "운수장비               2064.80   2049.60 -0.740234   33220135   856132655658\n",
       "코스피 200 산업재         611.72    593.90 -2.910156   22903866   810692408820\n",
       "유통업                 337.63    334.96 -0.790039   22116520   232222099807\n",
       "비금속광물              2717.73   2705.36 -0.459961   19003049   228825985316\n",
       "코스피 200 정보기술       2795.90   2783.82 -0.429932   18181064  1237969661500\n",
       "서비스업               1222.28   1202.93 -1.580078   18078618   543650964265\n",
       "코스피 200 TOP 10     1232.53   1229.38 -0.260010   18007605  1552137892500\n",
       "코스피 200 중공업         283.08    274.96 -2.869141   17180296   423352660300\n",
       "운수창고업              1711.53   1659.69 -3.029297   10340713   138550078285\n",
       "코스피 200 금융          578.32    575.46 -0.489990    9583274   222471471069\n",
       "의약품               14072.17  14009.98 -0.439941    8119666   240551711780"
      ]
     },
     "execution_count": 49,
     "metadata": {},
     "output_type": "execute_result"
    }
   ],
   "source": [
    "df = stock.get_index_price_change(\"20220919\", \"20220919\", \"KOSPI\")\n",
    "df.sort_values('거래량', ascending=False).head(30)"
   ]
  },
  {
   "cell_type": "markdown",
   "id": "594a7a88-9e86-474c-9933-bbc45e084314",
   "metadata": {},
   "source": [
    "* 종목"
   ]
  },
  {
   "cell_type": "code",
   "execution_count": 50,
   "id": "a736b60d-c626-47d2-b18a-e613bf3c81c2",
   "metadata": {},
   "outputs": [
    {
     "name": "stdout",
     "output_type": "stream",
     "text": [
      "티커\n",
      "018470    34180107\n",
      "091090    24383139\n",
      "006220    18676425\n",
      "014580    12872356\n",
      "005930    12278653\n",
      "Name: 거래량, dtype: int32\n",
      "018470 조일알미늄 34180107\n",
      "091090 세원이앤씨 24383139\n",
      "006220 제주은행 18676425\n",
      "014580 태경비케이 12872356\n",
      "005930 삼성전자 12278653\n"
     ]
    }
   ],
   "source": [
    "df = stock.get_market_ohlcv(\"20220919\", market=\"KOSPI\")\n",
    "topdf = df['거래량'].sort_values(ascending=False).head()\n",
    "print(topdf.head())\n",
    "\n",
    "for ticker in topdf.index:\n",
    "    종목 = stock.get_market_ticker_name(ticker)\n",
    "    print(ticker , 종목, topdf.loc[ticker])"
   ]
  },
  {
   "cell_type": "markdown",
   "id": "ebdcbe22-b270-488b-8992-200c1938ffa9",
   "metadata": {
    "tags": []
   },
   "source": [
    "# 지수(index fund)\n",
    "* ETF \n",
    "* ETN\n",
    "* ELW"
   ]
  },
  {
   "cell_type": "markdown",
   "id": "be7f025c-a5f6-4855-9ad4-abed243e48a1",
   "metadata": {},
   "source": [
    "# 채권(bond)"
   ]
  },
  {
   "cell_type": "code",
   "execution_count": 51,
   "id": "f344bb13-5b20-4375-b8ce-eb2679d32711",
   "metadata": {},
   "outputs": [],
   "source": [
    "from pykrx import bond"
   ]
  },
  {
   "cell_type": "code",
   "execution_count": 52,
   "id": "5aed3d37-c2a2-4219-b95f-28dbc2d09b50",
   "metadata": {},
   "outputs": [
    {
     "name": "stdout",
     "output_type": "stream",
     "text": [
      "                      수익률     대비\n",
      "채권종류                            \n",
      "국고채 1년              3.194 -0.017\n",
      "국고채 2년              3.764  0.018\n",
      "국고채 3년              3.759 -0.008\n",
      "국고채 5년              3.782  0.015\n",
      "국고채 10년             3.794  0.022\n",
      "국고채 20년             3.668  0.000\n",
      "국고채 30년             3.608  0.022\n",
      "국민주택 1종 5년          3.875  0.023\n",
      "회사채 AA-(무보증 3년)     4.751 -0.007\n",
      "회사채 BBB- (무보증 3년)  10.609 -0.005\n",
      "CD(91일)             2.990  0.020\n"
     ]
    }
   ],
   "source": [
    "df = bond.get_otc_treasury_yields(\"20220919\")\n",
    "print(df)"
   ]
  },
  {
   "cell_type": "markdown",
   "id": "abc6fa77-4f9f-4497-b383-c58c3a585ec3",
   "metadata": {},
   "source": [
    "## 중요 - 일자별 채권 금리"
   ]
  },
  {
   "cell_type": "code",
   "execution_count": 53,
   "id": "d8592348-3f6c-472b-98b7-4dc29548640e",
   "metadata": {},
   "outputs": [
    {
     "name": "stdout",
     "output_type": "stream",
     "text": [
      "              수익률     대비\n",
      "일자                      \n",
      "2022-01-04  1.717  0.007\n",
      "2022-01-05  1.791  0.074\n",
      "2022-01-06  1.878  0.087\n",
      "2022-01-07  1.895  0.017\n",
      "2022-01-10  1.902  0.007\n"
     ]
    }
   ],
   "source": [
    "df = bond.get_otc_treasury_yields(\"20220104\", \"20220204\", \"국고채2년\")\n",
    "print(df.head())"
   ]
  },
  {
   "cell_type": "code",
   "execution_count": null,
   "id": "cdabe31a-2567-4f88-92a8-4db6829de464",
   "metadata": {},
   "outputs": [],
   "source": [
    "#TA-LIB\n",
    "# !pip install .\\ta_lib-0.4.24-cp38-cp38-win_amd64.whl\n",
    "# !pip install pandas_datareader \n",
    "# !pip install finance_datareader\n",
    "# !pip install quandl\n",
    "# !pip install plotly\n",
    "# #구버전.. yahoo-finace\n",
    "# !pip install yfinance  "
   ]
  },
  {
   "cell_type": "markdown",
   "id": "81ca2d2f-51aa-46c7-99be-a3233ed48dca",
   "metadata": {},
   "source": [
    "# YahooFinance\n",
    "* ref : https://pypi.org/project/yfinance/"
   ]
  },
  {
   "cell_type": "code",
   "execution_count": 54,
   "id": "93f42a1b-5b3f-403b-b4b7-a5ead6aa3805",
   "metadata": {},
   "outputs": [],
   "source": [
    "# import yfinance as yf\n",
    "# msft = yf.Ticker(\"MSFT\")\n",
    "# msft.info"
   ]
  },
  {
   "cell_type": "code",
   "execution_count": 55,
   "id": "a7e8b009-770a-4b5a-86d3-76bbbb1d6a78",
   "metadata": {},
   "outputs": [
    {
     "name": "stdout",
     "output_type": "stream",
     "text": [
      "[*********************100%***********************]  1 of 1 completed\n"
     ]
    },
    {
     "data": {
      "text/html": [
       "<div>\n",
       "<style scoped>\n",
       "    .dataframe tbody tr th:only-of-type {\n",
       "        vertical-align: middle;\n",
       "    }\n",
       "\n",
       "    .dataframe tbody tr th {\n",
       "        vertical-align: top;\n",
       "    }\n",
       "\n",
       "    .dataframe thead th {\n",
       "        text-align: right;\n",
       "    }\n",
       "</style>\n",
       "<table border=\"1\" class=\"dataframe\">\n",
       "  <thead>\n",
       "    <tr style=\"text-align: right;\">\n",
       "      <th></th>\n",
       "      <th>Open</th>\n",
       "      <th>High</th>\n",
       "      <th>Low</th>\n",
       "      <th>Close</th>\n",
       "      <th>Adj Close</th>\n",
       "      <th>Volume</th>\n",
       "    </tr>\n",
       "    <tr>\n",
       "      <th>Date</th>\n",
       "      <th></th>\n",
       "      <th></th>\n",
       "      <th></th>\n",
       "      <th></th>\n",
       "      <th></th>\n",
       "      <th></th>\n",
       "    </tr>\n",
       "  </thead>\n",
       "  <tbody>\n",
       "    <tr>\n",
       "      <th>2019-12-31</th>\n",
       "      <td>66.505501</td>\n",
       "      <td>66.900002</td>\n",
       "      <td>66.454247</td>\n",
       "      <td>66.850998</td>\n",
       "      <td>66.850998</td>\n",
       "      <td>19236000</td>\n",
       "    </tr>\n",
       "    <tr>\n",
       "      <th>2020-01-02</th>\n",
       "      <td>67.077499</td>\n",
       "      <td>68.406998</td>\n",
       "      <td>67.077499</td>\n",
       "      <td>68.368500</td>\n",
       "      <td>68.368500</td>\n",
       "      <td>28132000</td>\n",
       "    </tr>\n",
       "    <tr>\n",
       "      <th>2020-01-03</th>\n",
       "      <td>67.392998</td>\n",
       "      <td>68.625000</td>\n",
       "      <td>67.277199</td>\n",
       "      <td>68.032997</td>\n",
       "      <td>68.032997</td>\n",
       "      <td>23728000</td>\n",
       "    </tr>\n",
       "    <tr>\n",
       "      <th>2020-01-06</th>\n",
       "      <td>67.500000</td>\n",
       "      <td>69.824997</td>\n",
       "      <td>67.500000</td>\n",
       "      <td>69.710503</td>\n",
       "      <td>69.710503</td>\n",
       "      <td>34646000</td>\n",
       "    </tr>\n",
       "    <tr>\n",
       "      <th>2020-01-07</th>\n",
       "      <td>69.897003</td>\n",
       "      <td>70.149498</td>\n",
       "      <td>69.518997</td>\n",
       "      <td>69.667000</td>\n",
       "      <td>69.667000</td>\n",
       "      <td>30054000</td>\n",
       "    </tr>\n",
       "  </tbody>\n",
       "</table>\n",
       "</div>"
      ],
      "text/plain": [
       "                 Open       High        Low      Close  Adj Close    Volume\n",
       "Date                                                                       \n",
       "2019-12-31  66.505501  66.900002  66.454247  66.850998  66.850998  19236000\n",
       "2020-01-02  67.077499  68.406998  67.077499  68.368500  68.368500  28132000\n",
       "2020-01-03  67.392998  68.625000  67.277199  68.032997  68.032997  23728000\n",
       "2020-01-06  67.500000  69.824997  67.500000  69.710503  69.710503  34646000\n",
       "2020-01-07  69.897003  70.149498  69.518997  69.667000  69.667000  30054000"
      ]
     },
     "execution_count": 55,
     "metadata": {},
     "output_type": "execute_result"
    }
   ],
   "source": [
    "from pandas_datareader import data as pdr\n",
    "import yfinance as yf\n",
    "yf.pdr_override() # <== that's all it takes :-)\n",
    "\n",
    "# download dataframe\n",
    "df = pdr.get_data_yahoo(\"GOOG\", start=\"2020-01-01\", end=\"2020-02-28\")\n",
    "df.head()"
   ]
  },
  {
   "cell_type": "code",
   "execution_count": 56,
   "id": "030a7a57-ff42-4aa4-8659-a34e9aec8245",
   "metadata": {},
   "outputs": [
    {
     "name": "stdout",
     "output_type": "stream",
     "text": [
      "[*********************100%***********************]  1 of 1 completed\n"
     ]
    },
    {
     "data": {
      "text/html": [
       "<div>\n",
       "<style scoped>\n",
       "    .dataframe tbody tr th:only-of-type {\n",
       "        vertical-align: middle;\n",
       "    }\n",
       "\n",
       "    .dataframe tbody tr th {\n",
       "        vertical-align: top;\n",
       "    }\n",
       "\n",
       "    .dataframe thead th {\n",
       "        text-align: right;\n",
       "    }\n",
       "</style>\n",
       "<table border=\"1\" class=\"dataframe\">\n",
       "  <thead>\n",
       "    <tr style=\"text-align: right;\">\n",
       "      <th></th>\n",
       "      <th>Open</th>\n",
       "      <th>High</th>\n",
       "      <th>Low</th>\n",
       "      <th>Close</th>\n",
       "      <th>Adj Close</th>\n",
       "      <th>Volume</th>\n",
       "    </tr>\n",
       "    <tr>\n",
       "      <th>Date</th>\n",
       "      <th></th>\n",
       "      <th></th>\n",
       "      <th></th>\n",
       "      <th></th>\n",
       "      <th></th>\n",
       "      <th></th>\n",
       "    </tr>\n",
       "  </thead>\n",
       "  <tbody>\n",
       "    <tr>\n",
       "      <th>2020-01-02</th>\n",
       "      <td>55500.0</td>\n",
       "      <td>56000.0</td>\n",
       "      <td>55000.0</td>\n",
       "      <td>55200.0</td>\n",
       "      <td>51244.257812</td>\n",
       "      <td>12993228</td>\n",
       "    </tr>\n",
       "    <tr>\n",
       "      <th>2020-01-03</th>\n",
       "      <td>56000.0</td>\n",
       "      <td>56600.0</td>\n",
       "      <td>54900.0</td>\n",
       "      <td>55500.0</td>\n",
       "      <td>51522.757812</td>\n",
       "      <td>15422255</td>\n",
       "    </tr>\n",
       "    <tr>\n",
       "      <th>2020-01-06</th>\n",
       "      <td>54900.0</td>\n",
       "      <td>55600.0</td>\n",
       "      <td>54600.0</td>\n",
       "      <td>55500.0</td>\n",
       "      <td>51522.757812</td>\n",
       "      <td>10278951</td>\n",
       "    </tr>\n",
       "    <tr>\n",
       "      <th>2020-01-07</th>\n",
       "      <td>55700.0</td>\n",
       "      <td>56400.0</td>\n",
       "      <td>55600.0</td>\n",
       "      <td>55800.0</td>\n",
       "      <td>51801.261719</td>\n",
       "      <td>10009778</td>\n",
       "    </tr>\n",
       "    <tr>\n",
       "      <th>2020-01-08</th>\n",
       "      <td>56200.0</td>\n",
       "      <td>57400.0</td>\n",
       "      <td>55900.0</td>\n",
       "      <td>56800.0</td>\n",
       "      <td>52729.597656</td>\n",
       "      <td>23501171</td>\n",
       "    </tr>\n",
       "  </tbody>\n",
       "</table>\n",
       "</div>"
      ],
      "text/plain": [
       "               Open     High      Low    Close     Adj Close    Volume\n",
       "Date                                                                  \n",
       "2020-01-02  55500.0  56000.0  55000.0  55200.0  51244.257812  12993228\n",
       "2020-01-03  56000.0  56600.0  54900.0  55500.0  51522.757812  15422255\n",
       "2020-01-06  54900.0  55600.0  54600.0  55500.0  51522.757812  10278951\n",
       "2020-01-07  55700.0  56400.0  55600.0  55800.0  51801.261719  10009778\n",
       "2020-01-08  56200.0  57400.0  55900.0  56800.0  52729.597656  23501171"
      ]
     },
     "execution_count": 56,
     "metadata": {},
     "output_type": "execute_result"
    }
   ],
   "source": [
    "df = pdr.get_data_yahoo(\"005930.KS\", start=\"2020-01-01\", end=\"2020-02-28\")\n",
    "df.head()"
   ]
  },
  {
   "cell_type": "markdown",
   "id": "f8dda585-5b54-421c-91b0-4c0f19a459c3",
   "metadata": {},
   "source": [
    "# pandas-datareader\n",
    "* https://pandas-datareader.readthedocs.io/en/latest/"
   ]
  },
  {
   "cell_type": "markdown",
   "id": "a3d7796d-5a82-4bc0-aa36-239345436529",
   "metadata": {},
   "source": [
    "<pre>\n",
    "<div>\n",
    "                \n",
    "  <div class=\"section\" id=\"data-readers\">\n",
    "<h1>Data Readers<a class=\"headerlink\" href=\"#data-readers\" title=\"Permalink to this headline\">¶</a></h1>\n",
    "<div class=\"toctree-wrapper compound\">\n",
    "<ul>\n",
    "<li class=\"toctree-l1\"><a class=\"reference internal\" href=\"alphavantage.html\">AlphaVantage</a></li>\n",
    "<li class=\"toctree-l1\"><a class=\"reference internal\" href=\"fred.html\">Federal Reserve Economic Data (FRED)</a></li>\n",
    "<li class=\"toctree-l1\"><a class=\"reference internal\" href=\"famafrench.html\">Fama-French Data (Ken French’s Data Library)</a></li>\n",
    "<li class=\"toctree-l1\"><a class=\"reference internal\" href=\"bank-of-canada.html\">Bank of Canada</a></li>\n",
    "<li class=\"toctree-l1\"><a class=\"reference internal\" href=\"econdb.html\">Econdb</a></li>\n",
    "<li class=\"toctree-l1\"><a class=\"reference internal\" href=\"enigma.html\">Enigma</a></li>\n",
    "<li class=\"toctree-l1\"><a class=\"reference internal\" href=\"eurostat.html\">Eurostat</a></li>\n",
    "<li class=\"toctree-l1\"><a class=\"reference internal\" href=\"iex.html\">The Investors Exchange (IEX)</a></li>\n",
    "<li class=\"toctree-l1\"><a class=\"reference internal\" href=\"moex.html\">Moscow Exchange (MOEX)</a></li>\n",
    "<li class=\"toctree-l1\"><a class=\"reference internal\" href=\"nasdaq-trader.html\">NASDAQ</a></li>\n",
    "<li class=\"toctree-l1\"><a class=\"reference internal\" href=\"naver.html\">Naver Finance</a></li>\n",
    "<li class=\"toctree-l1\"><a class=\"reference internal\" href=\"oecd.html\">Organisation for Economic Co-operation and Development (OECD)</a></li>\n",
    "<li class=\"toctree-l1\"><a class=\"reference internal\" href=\"quandl.html\">Quandl</a></li>\n",
    "<li class=\"toctree-l1\"><a class=\"reference internal\" href=\"stooq.html\">Stooq.com</a></li>\n",
    "<li class=\"toctree-l1\"><a class=\"reference internal\" href=\"tiingo.html\">Tiingo</a></li>\n",
    "<li class=\"toctree-l1\"><a class=\"reference internal\" href=\"tsp.html\">Thrift Savings Plan (TSP)</a></li>\n",
    "<li class=\"toctree-l1\"><a class=\"reference internal\" href=\"world-bank.html\">World Bank</a></li>\n",
    "<li class=\"toctree-l1\"><a class=\"reference internal\" href=\"yahoo.html\">Yahoo Finance</a></li>\n",
    "</ul>\n",
    "</div>\n",
    "</div>\n",
    "\n",
    "\n",
    "              </div>"
   ]
  },
  {
   "cell_type": "code",
   "execution_count": 27,
   "id": "b37214ba-3a66-4e21-8c11-bc807269c06f",
   "metadata": {},
   "outputs": [
    {
     "data": {
      "text/html": [
       "<div>\n",
       "<style scoped>\n",
       "    .dataframe tbody tr th:only-of-type {\n",
       "        vertical-align: middle;\n",
       "    }\n",
       "\n",
       "    .dataframe tbody tr th {\n",
       "        vertical-align: top;\n",
       "    }\n",
       "\n",
       "    .dataframe thead th {\n",
       "        text-align: right;\n",
       "    }\n",
       "</style>\n",
       "<table border=\"1\" class=\"dataframe\">\n",
       "  <thead>\n",
       "    <tr style=\"text-align: right;\">\n",
       "      <th></th>\n",
       "      <th>GS10</th>\n",
       "    </tr>\n",
       "    <tr>\n",
       "      <th>DATE</th>\n",
       "      <th></th>\n",
       "    </tr>\n",
       "  </thead>\n",
       "  <tbody>\n",
       "    <tr>\n",
       "      <th>2017-10-01</th>\n",
       "      <td>2.36</td>\n",
       "    </tr>\n",
       "    <tr>\n",
       "      <th>2017-11-01</th>\n",
       "      <td>2.35</td>\n",
       "    </tr>\n",
       "    <tr>\n",
       "      <th>2017-12-01</th>\n",
       "      <td>2.40</td>\n",
       "    </tr>\n",
       "    <tr>\n",
       "      <th>2018-01-01</th>\n",
       "      <td>2.58</td>\n",
       "    </tr>\n",
       "    <tr>\n",
       "      <th>2018-02-01</th>\n",
       "      <td>2.86</td>\n",
       "    </tr>\n",
       "  </tbody>\n",
       "</table>\n",
       "</div>"
      ],
      "text/plain": [
       "            GS10\n",
       "DATE            \n",
       "2017-10-01  2.36\n",
       "2017-11-01  2.35\n",
       "2017-12-01  2.40\n",
       "2018-01-01  2.58\n",
       "2018-02-01  2.86"
      ]
     },
     "execution_count": 27,
     "metadata": {},
     "output_type": "execute_result"
    }
   ],
   "source": [
    "#미국채권\n",
    "import pandas_datareader as pdr\n",
    "pdr.get_data_fred('GS10').head()"
   ]
  },
  {
   "cell_type": "code",
   "execution_count": 28,
   "id": "5627c1b3-437e-4f04-bdf7-76038a6ff2ab",
   "metadata": {},
   "outputs": [
    {
     "data": {
      "text/html": [
       "<div>\n",
       "<style scoped>\n",
       "    .dataframe tbody tr th:only-of-type {\n",
       "        vertical-align: middle;\n",
       "    }\n",
       "\n",
       "    .dataframe tbody tr th {\n",
       "        vertical-align: top;\n",
       "    }\n",
       "\n",
       "    .dataframe thead th {\n",
       "        text-align: right;\n",
       "    }\n",
       "</style>\n",
       "<table border=\"1\" class=\"dataframe\">\n",
       "  <thead>\n",
       "    <tr style=\"text-align: right;\">\n",
       "      <th></th>\n",
       "      <th>High</th>\n",
       "      <th>Low</th>\n",
       "      <th>Open</th>\n",
       "      <th>Close</th>\n",
       "      <th>Volume</th>\n",
       "      <th>Adj Close</th>\n",
       "    </tr>\n",
       "    <tr>\n",
       "      <th>Date</th>\n",
       "      <th></th>\n",
       "      <th></th>\n",
       "      <th></th>\n",
       "      <th></th>\n",
       "      <th></th>\n",
       "      <th></th>\n",
       "    </tr>\n",
       "  </thead>\n",
       "  <tbody>\n",
       "    <tr>\n",
       "      <th>2020-01-02</th>\n",
       "      <td>56000</td>\n",
       "      <td>55000</td>\n",
       "      <td>55500</td>\n",
       "      <td>55200</td>\n",
       "      <td>12993228</td>\n",
       "      <td>51244.257812</td>\n",
       "    </tr>\n",
       "    <tr>\n",
       "      <th>2020-01-03</th>\n",
       "      <td>56600</td>\n",
       "      <td>54900</td>\n",
       "      <td>56000</td>\n",
       "      <td>55500</td>\n",
       "      <td>15422255</td>\n",
       "      <td>51522.753906</td>\n",
       "    </tr>\n",
       "    <tr>\n",
       "      <th>2020-01-06</th>\n",
       "      <td>55600</td>\n",
       "      <td>54600</td>\n",
       "      <td>54900</td>\n",
       "      <td>55500</td>\n",
       "      <td>10278951</td>\n",
       "      <td>51522.753906</td>\n",
       "    </tr>\n",
       "    <tr>\n",
       "      <th>2020-01-07</th>\n",
       "      <td>56400</td>\n",
       "      <td>55600</td>\n",
       "      <td>55700</td>\n",
       "      <td>55800</td>\n",
       "      <td>10009778</td>\n",
       "      <td>51801.257812</td>\n",
       "    </tr>\n",
       "    <tr>\n",
       "      <th>2020-01-08</th>\n",
       "      <td>57400</td>\n",
       "      <td>55900</td>\n",
       "      <td>56200</td>\n",
       "      <td>56800</td>\n",
       "      <td>23501171</td>\n",
       "      <td>52729.601562</td>\n",
       "    </tr>\n",
       "  </tbody>\n",
       "</table>\n",
       "</div>"
      ],
      "text/plain": [
       "             High    Low   Open  Close    Volume     Adj Close\n",
       "Date                                                          \n",
       "2020-01-02  56000  55000  55500  55200  12993228  51244.257812\n",
       "2020-01-03  56600  54900  56000  55500  15422255  51522.753906\n",
       "2020-01-06  55600  54600  54900  55500  10278951  51522.753906\n",
       "2020-01-07  56400  55600  55700  55800  10009778  51801.257812\n",
       "2020-01-08  57400  55900  56200  56800  23501171  52729.601562"
      ]
     },
     "execution_count": 28,
     "metadata": {},
     "output_type": "execute_result"
    }
   ],
   "source": [
    "df = pdr.get_data_yahoo(\"005930.KS\", \"2020-01-01\", \"2020-02-28\")\n",
    "df.head()"
   ]
  },
  {
   "cell_type": "markdown",
   "id": "45dba413-fcb6-4333-8c16-bd033cdb152b",
   "metadata": {},
   "source": [
    "# TA-LIB\n",
    "* ref : https://github.com/mrjbq7/ta-lib"
   ]
  },
  {
   "cell_type": "code",
   "execution_count": 25,
   "id": "f0d83dc7-25ce-4093-8949-8c67c151edaa",
   "metadata": {},
   "outputs": [],
   "source": [
    "import talib"
   ]
  },
  {
   "cell_type": "code",
   "execution_count": 29,
   "id": "d45f4f06-9d26-4471-ad86-b5317f202e75",
   "metadata": {},
   "outputs": [
    {
     "data": {
      "text/html": [
       "<div>\n",
       "<style scoped>\n",
       "    .dataframe tbody tr th:only-of-type {\n",
       "        vertical-align: middle;\n",
       "    }\n",
       "\n",
       "    .dataframe tbody tr th {\n",
       "        vertical-align: top;\n",
       "    }\n",
       "\n",
       "    .dataframe thead th {\n",
       "        text-align: right;\n",
       "    }\n",
       "</style>\n",
       "<table border=\"1\" class=\"dataframe\">\n",
       "  <thead>\n",
       "    <tr style=\"text-align: right;\">\n",
       "      <th></th>\n",
       "      <th>High</th>\n",
       "      <th>Low</th>\n",
       "      <th>Open</th>\n",
       "      <th>Close</th>\n",
       "      <th>Volume</th>\n",
       "      <th>Adj Close</th>\n",
       "    </tr>\n",
       "    <tr>\n",
       "      <th>Date</th>\n",
       "      <th></th>\n",
       "      <th></th>\n",
       "      <th></th>\n",
       "      <th></th>\n",
       "      <th></th>\n",
       "      <th></th>\n",
       "    </tr>\n",
       "  </thead>\n",
       "  <tbody>\n",
       "    <tr>\n",
       "      <th>2020-01-02</th>\n",
       "      <td>56000</td>\n",
       "      <td>55000</td>\n",
       "      <td>55500</td>\n",
       "      <td>55200</td>\n",
       "      <td>12993228</td>\n",
       "      <td>51244.253906</td>\n",
       "    </tr>\n",
       "    <tr>\n",
       "      <th>2020-01-03</th>\n",
       "      <td>56600</td>\n",
       "      <td>54900</td>\n",
       "      <td>56000</td>\n",
       "      <td>55500</td>\n",
       "      <td>15422255</td>\n",
       "      <td>51522.757812</td>\n",
       "    </tr>\n",
       "    <tr>\n",
       "      <th>2020-01-06</th>\n",
       "      <td>55600</td>\n",
       "      <td>54600</td>\n",
       "      <td>54900</td>\n",
       "      <td>55500</td>\n",
       "      <td>10278951</td>\n",
       "      <td>51522.757812</td>\n",
       "    </tr>\n",
       "    <tr>\n",
       "      <th>2020-01-07</th>\n",
       "      <td>56400</td>\n",
       "      <td>55600</td>\n",
       "      <td>55700</td>\n",
       "      <td>55800</td>\n",
       "      <td>10009778</td>\n",
       "      <td>51801.261719</td>\n",
       "    </tr>\n",
       "    <tr>\n",
       "      <th>2020-01-08</th>\n",
       "      <td>57400</td>\n",
       "      <td>55900</td>\n",
       "      <td>56200</td>\n",
       "      <td>56800</td>\n",
       "      <td>23501171</td>\n",
       "      <td>52729.593750</td>\n",
       "    </tr>\n",
       "  </tbody>\n",
       "</table>\n",
       "</div>"
      ],
      "text/plain": [
       "             High    Low   Open  Close    Volume     Adj Close\n",
       "Date                                                          \n",
       "2020-01-02  56000  55000  55500  55200  12993228  51244.253906\n",
       "2020-01-03  56600  54900  56000  55500  15422255  51522.757812\n",
       "2020-01-06  55600  54600  54900  55500  10278951  51522.757812\n",
       "2020-01-07  56400  55600  55700  55800  10009778  51801.261719\n",
       "2020-01-08  57400  55900  56200  56800  23501171  52729.593750"
      ]
     },
     "execution_count": 29,
     "metadata": {},
     "output_type": "execute_result"
    }
   ],
   "source": [
    "df = pdr.get_data_yahoo(\"005930.KS\", \"2020-01-01\", \"2020-02-28\")\n",
    "df.head()"
   ]
  },
  {
   "cell_type": "code",
   "execution_count": 30,
   "id": "034b13f9-a105-4d6a-a94c-418f970bd89a",
   "metadata": {},
   "outputs": [
    {
     "data": {
      "text/html": [
       "<div>\n",
       "<style scoped>\n",
       "    .dataframe tbody tr th:only-of-type {\n",
       "        vertical-align: middle;\n",
       "    }\n",
       "\n",
       "    .dataframe tbody tr th {\n",
       "        vertical-align: top;\n",
       "    }\n",
       "\n",
       "    .dataframe thead th {\n",
       "        text-align: right;\n",
       "    }\n",
       "</style>\n",
       "<table border=\"1\" class=\"dataframe\">\n",
       "  <thead>\n",
       "    <tr style=\"text-align: right;\">\n",
       "      <th></th>\n",
       "      <th>High</th>\n",
       "      <th>Low</th>\n",
       "      <th>Open</th>\n",
       "      <th>Close</th>\n",
       "      <th>Volume</th>\n",
       "      <th>Adj Close</th>\n",
       "      <th>ma5</th>\n",
       "    </tr>\n",
       "    <tr>\n",
       "      <th>Date</th>\n",
       "      <th></th>\n",
       "      <th></th>\n",
       "      <th></th>\n",
       "      <th></th>\n",
       "      <th></th>\n",
       "      <th></th>\n",
       "      <th></th>\n",
       "    </tr>\n",
       "  </thead>\n",
       "  <tbody>\n",
       "    <tr>\n",
       "      <th>2020-01-02</th>\n",
       "      <td>56000</td>\n",
       "      <td>55000</td>\n",
       "      <td>55500</td>\n",
       "      <td>55200</td>\n",
       "      <td>12993228</td>\n",
       "      <td>51244.253906</td>\n",
       "      <td>NaN</td>\n",
       "    </tr>\n",
       "    <tr>\n",
       "      <th>2020-01-03</th>\n",
       "      <td>56600</td>\n",
       "      <td>54900</td>\n",
       "      <td>56000</td>\n",
       "      <td>55500</td>\n",
       "      <td>15422255</td>\n",
       "      <td>51522.757812</td>\n",
       "      <td>NaN</td>\n",
       "    </tr>\n",
       "    <tr>\n",
       "      <th>2020-01-06</th>\n",
       "      <td>55600</td>\n",
       "      <td>54600</td>\n",
       "      <td>54900</td>\n",
       "      <td>55500</td>\n",
       "      <td>10278951</td>\n",
       "      <td>51522.757812</td>\n",
       "      <td>NaN</td>\n",
       "    </tr>\n",
       "    <tr>\n",
       "      <th>2020-01-07</th>\n",
       "      <td>56400</td>\n",
       "      <td>55600</td>\n",
       "      <td>55700</td>\n",
       "      <td>55800</td>\n",
       "      <td>10009778</td>\n",
       "      <td>51801.261719</td>\n",
       "      <td>NaN</td>\n",
       "    </tr>\n",
       "    <tr>\n",
       "      <th>2020-01-08</th>\n",
       "      <td>57400</td>\n",
       "      <td>55900</td>\n",
       "      <td>56200</td>\n",
       "      <td>56800</td>\n",
       "      <td>23501171</td>\n",
       "      <td>52729.593750</td>\n",
       "      <td>55760.0</td>\n",
       "    </tr>\n",
       "    <tr>\n",
       "      <th>2020-01-09</th>\n",
       "      <td>58600</td>\n",
       "      <td>57400</td>\n",
       "      <td>58400</td>\n",
       "      <td>58600</td>\n",
       "      <td>24102579</td>\n",
       "      <td>54400.605469</td>\n",
       "      <td>56440.0</td>\n",
       "    </tr>\n",
       "    <tr>\n",
       "      <th>2020-01-10</th>\n",
       "      <td>59700</td>\n",
       "      <td>58300</td>\n",
       "      <td>58800</td>\n",
       "      <td>59500</td>\n",
       "      <td>16000170</td>\n",
       "      <td>55236.105469</td>\n",
       "      <td>57240.0</td>\n",
       "    </tr>\n",
       "    <tr>\n",
       "      <th>2020-01-13</th>\n",
       "      <td>60000</td>\n",
       "      <td>59100</td>\n",
       "      <td>59600</td>\n",
       "      <td>60000</td>\n",
       "      <td>11359139</td>\n",
       "      <td>55700.277344</td>\n",
       "      <td>58140.0</td>\n",
       "    </tr>\n",
       "    <tr>\n",
       "      <th>2020-01-14</th>\n",
       "      <td>61000</td>\n",
       "      <td>59900</td>\n",
       "      <td>60400</td>\n",
       "      <td>60000</td>\n",
       "      <td>16906295</td>\n",
       "      <td>55700.277344</td>\n",
       "      <td>58980.0</td>\n",
       "    </tr>\n",
       "    <tr>\n",
       "      <th>2020-01-15</th>\n",
       "      <td>59600</td>\n",
       "      <td>58900</td>\n",
       "      <td>59500</td>\n",
       "      <td>59000</td>\n",
       "      <td>14300928</td>\n",
       "      <td>54771.945312</td>\n",
       "      <td>59420.0</td>\n",
       "    </tr>\n",
       "  </tbody>\n",
       "</table>\n",
       "</div>"
      ],
      "text/plain": [
       "             High    Low   Open  Close    Volume     Adj Close      ma5\n",
       "Date                                                                   \n",
       "2020-01-02  56000  55000  55500  55200  12993228  51244.253906      NaN\n",
       "2020-01-03  56600  54900  56000  55500  15422255  51522.757812      NaN\n",
       "2020-01-06  55600  54600  54900  55500  10278951  51522.757812      NaN\n",
       "2020-01-07  56400  55600  55700  55800  10009778  51801.261719      NaN\n",
       "2020-01-08  57400  55900  56200  56800  23501171  52729.593750  55760.0\n",
       "2020-01-09  58600  57400  58400  58600  24102579  54400.605469  56440.0\n",
       "2020-01-10  59700  58300  58800  59500  16000170  55236.105469  57240.0\n",
       "2020-01-13  60000  59100  59600  60000  11359139  55700.277344  58140.0\n",
       "2020-01-14  61000  59900  60400  60000  16906295  55700.277344  58980.0\n",
       "2020-01-15  59600  58900  59500  59000  14300928  54771.945312  59420.0"
      ]
     },
     "execution_count": 30,
     "metadata": {},
     "output_type": "execute_result"
    }
   ],
   "source": [
    "df[\"ma5\"] = df['Close'].rolling(5).mean()\n",
    "df.head(10)"
   ]
  },
  {
   "cell_type": "code",
   "execution_count": 31,
   "id": "0fb2b238-c138-4da9-a87c-e7d6f8c6325a",
   "metadata": {},
   "outputs": [
    {
     "data": {
      "text/html": [
       "<div>\n",
       "<style scoped>\n",
       "    .dataframe tbody tr th:only-of-type {\n",
       "        vertical-align: middle;\n",
       "    }\n",
       "\n",
       "    .dataframe tbody tr th {\n",
       "        vertical-align: top;\n",
       "    }\n",
       "\n",
       "    .dataframe thead th {\n",
       "        text-align: right;\n",
       "    }\n",
       "</style>\n",
       "<table border=\"1\" class=\"dataframe\">\n",
       "  <thead>\n",
       "    <tr style=\"text-align: right;\">\n",
       "      <th></th>\n",
       "      <th>High</th>\n",
       "      <th>Low</th>\n",
       "      <th>Open</th>\n",
       "      <th>Close</th>\n",
       "      <th>Volume</th>\n",
       "      <th>Adj Close</th>\n",
       "      <th>ma5</th>\n",
       "      <th>tb-ma5</th>\n",
       "    </tr>\n",
       "    <tr>\n",
       "      <th>Date</th>\n",
       "      <th></th>\n",
       "      <th></th>\n",
       "      <th></th>\n",
       "      <th></th>\n",
       "      <th></th>\n",
       "      <th></th>\n",
       "      <th></th>\n",
       "      <th></th>\n",
       "    </tr>\n",
       "  </thead>\n",
       "  <tbody>\n",
       "    <tr>\n",
       "      <th>2020-01-02</th>\n",
       "      <td>56000</td>\n",
       "      <td>55000</td>\n",
       "      <td>55500</td>\n",
       "      <td>55200</td>\n",
       "      <td>12993228</td>\n",
       "      <td>51244.253906</td>\n",
       "      <td>NaN</td>\n",
       "      <td>NaN</td>\n",
       "    </tr>\n",
       "    <tr>\n",
       "      <th>2020-01-03</th>\n",
       "      <td>56600</td>\n",
       "      <td>54900</td>\n",
       "      <td>56000</td>\n",
       "      <td>55500</td>\n",
       "      <td>15422255</td>\n",
       "      <td>51522.757812</td>\n",
       "      <td>NaN</td>\n",
       "      <td>NaN</td>\n",
       "    </tr>\n",
       "    <tr>\n",
       "      <th>2020-01-06</th>\n",
       "      <td>55600</td>\n",
       "      <td>54600</td>\n",
       "      <td>54900</td>\n",
       "      <td>55500</td>\n",
       "      <td>10278951</td>\n",
       "      <td>51522.757812</td>\n",
       "      <td>NaN</td>\n",
       "      <td>NaN</td>\n",
       "    </tr>\n",
       "    <tr>\n",
       "      <th>2020-01-07</th>\n",
       "      <td>56400</td>\n",
       "      <td>55600</td>\n",
       "      <td>55700</td>\n",
       "      <td>55800</td>\n",
       "      <td>10009778</td>\n",
       "      <td>51801.261719</td>\n",
       "      <td>NaN</td>\n",
       "      <td>NaN</td>\n",
       "    </tr>\n",
       "    <tr>\n",
       "      <th>2020-01-08</th>\n",
       "      <td>57400</td>\n",
       "      <td>55900</td>\n",
       "      <td>56200</td>\n",
       "      <td>56800</td>\n",
       "      <td>23501171</td>\n",
       "      <td>52729.593750</td>\n",
       "      <td>55760.0</td>\n",
       "      <td>55760.0</td>\n",
       "    </tr>\n",
       "    <tr>\n",
       "      <th>2020-01-09</th>\n",
       "      <td>58600</td>\n",
       "      <td>57400</td>\n",
       "      <td>58400</td>\n",
       "      <td>58600</td>\n",
       "      <td>24102579</td>\n",
       "      <td>54400.605469</td>\n",
       "      <td>56440.0</td>\n",
       "      <td>56440.0</td>\n",
       "    </tr>\n",
       "    <tr>\n",
       "      <th>2020-01-10</th>\n",
       "      <td>59700</td>\n",
       "      <td>58300</td>\n",
       "      <td>58800</td>\n",
       "      <td>59500</td>\n",
       "      <td>16000170</td>\n",
       "      <td>55236.105469</td>\n",
       "      <td>57240.0</td>\n",
       "      <td>57240.0</td>\n",
       "    </tr>\n",
       "    <tr>\n",
       "      <th>2020-01-13</th>\n",
       "      <td>60000</td>\n",
       "      <td>59100</td>\n",
       "      <td>59600</td>\n",
       "      <td>60000</td>\n",
       "      <td>11359139</td>\n",
       "      <td>55700.277344</td>\n",
       "      <td>58140.0</td>\n",
       "      <td>58140.0</td>\n",
       "    </tr>\n",
       "    <tr>\n",
       "      <th>2020-01-14</th>\n",
       "      <td>61000</td>\n",
       "      <td>59900</td>\n",
       "      <td>60400</td>\n",
       "      <td>60000</td>\n",
       "      <td>16906295</td>\n",
       "      <td>55700.277344</td>\n",
       "      <td>58980.0</td>\n",
       "      <td>58980.0</td>\n",
       "    </tr>\n",
       "    <tr>\n",
       "      <th>2020-01-15</th>\n",
       "      <td>59600</td>\n",
       "      <td>58900</td>\n",
       "      <td>59500</td>\n",
       "      <td>59000</td>\n",
       "      <td>14300928</td>\n",
       "      <td>54771.945312</td>\n",
       "      <td>59420.0</td>\n",
       "      <td>59420.0</td>\n",
       "    </tr>\n",
       "  </tbody>\n",
       "</table>\n",
       "</div>"
      ],
      "text/plain": [
       "             High    Low   Open  Close    Volume     Adj Close      ma5  \\\n",
       "Date                                                                      \n",
       "2020-01-02  56000  55000  55500  55200  12993228  51244.253906      NaN   \n",
       "2020-01-03  56600  54900  56000  55500  15422255  51522.757812      NaN   \n",
       "2020-01-06  55600  54600  54900  55500  10278951  51522.757812      NaN   \n",
       "2020-01-07  56400  55600  55700  55800  10009778  51801.261719      NaN   \n",
       "2020-01-08  57400  55900  56200  56800  23501171  52729.593750  55760.0   \n",
       "2020-01-09  58600  57400  58400  58600  24102579  54400.605469  56440.0   \n",
       "2020-01-10  59700  58300  58800  59500  16000170  55236.105469  57240.0   \n",
       "2020-01-13  60000  59100  59600  60000  11359139  55700.277344  58140.0   \n",
       "2020-01-14  61000  59900  60400  60000  16906295  55700.277344  58980.0   \n",
       "2020-01-15  59600  58900  59500  59000  14300928  54771.945312  59420.0   \n",
       "\n",
       "             tb-ma5  \n",
       "Date                 \n",
       "2020-01-02      NaN  \n",
       "2020-01-03      NaN  \n",
       "2020-01-06      NaN  \n",
       "2020-01-07      NaN  \n",
       "2020-01-08  55760.0  \n",
       "2020-01-09  56440.0  \n",
       "2020-01-10  57240.0  \n",
       "2020-01-13  58140.0  \n",
       "2020-01-14  58980.0  \n",
       "2020-01-15  59420.0  "
      ]
     },
     "execution_count": 31,
     "metadata": {},
     "output_type": "execute_result"
    }
   ],
   "source": [
    "df[\"tb-ma5\"] = talib.SMA(df[\"Close\"], timeperiod=5)\n",
    "df.head(10)"
   ]
  },
  {
   "cell_type": "code",
   "execution_count": 32,
   "id": "f03a4d20-fc14-47a5-b16f-ad12865abc4c",
   "metadata": {},
   "outputs": [],
   "source": [
    "from talib import MA_Type\n",
    "upper, middle, lower = talib.BBANDS(df[\"Close\"], matype=MA_Type.T3)\n",
    "# upper, middle, lower "
   ]
  },
  {
   "cell_type": "code",
   "execution_count": 33,
   "id": "3fc957df-d7ba-46b1-aeb6-94589905dfe9",
   "metadata": {},
   "outputs": [
    {
     "data": {
      "text/html": [
       "<div>\n",
       "<style scoped>\n",
       "    .dataframe tbody tr th:only-of-type {\n",
       "        vertical-align: middle;\n",
       "    }\n",
       "\n",
       "    .dataframe tbody tr th {\n",
       "        vertical-align: top;\n",
       "    }\n",
       "\n",
       "    .dataframe thead th {\n",
       "        text-align: right;\n",
       "    }\n",
       "</style>\n",
       "<table border=\"1\" class=\"dataframe\">\n",
       "  <thead>\n",
       "    <tr style=\"text-align: right;\">\n",
       "      <th></th>\n",
       "      <th>High</th>\n",
       "      <th>Low</th>\n",
       "      <th>Open</th>\n",
       "      <th>Close</th>\n",
       "      <th>Volume</th>\n",
       "      <th>Adj Close</th>\n",
       "      <th>ma5</th>\n",
       "      <th>tb-ma5</th>\n",
       "      <th>upperband</th>\n",
       "      <th>middleband</th>\n",
       "      <th>lowerband</th>\n",
       "    </tr>\n",
       "    <tr>\n",
       "      <th>Date</th>\n",
       "      <th></th>\n",
       "      <th></th>\n",
       "      <th></th>\n",
       "      <th></th>\n",
       "      <th></th>\n",
       "      <th></th>\n",
       "      <th></th>\n",
       "      <th></th>\n",
       "      <th></th>\n",
       "      <th></th>\n",
       "      <th></th>\n",
       "    </tr>\n",
       "  </thead>\n",
       "  <tbody>\n",
       "    <tr>\n",
       "      <th>2020-01-02</th>\n",
       "      <td>56000</td>\n",
       "      <td>55000</td>\n",
       "      <td>55500</td>\n",
       "      <td>55200</td>\n",
       "      <td>12993228</td>\n",
       "      <td>51244.253906</td>\n",
       "      <td>NaN</td>\n",
       "      <td>NaN</td>\n",
       "      <td>NaN</td>\n",
       "      <td>NaN</td>\n",
       "      <td>NaN</td>\n",
       "    </tr>\n",
       "    <tr>\n",
       "      <th>2020-01-03</th>\n",
       "      <td>56600</td>\n",
       "      <td>54900</td>\n",
       "      <td>56000</td>\n",
       "      <td>55500</td>\n",
       "      <td>15422255</td>\n",
       "      <td>51522.757812</td>\n",
       "      <td>NaN</td>\n",
       "      <td>NaN</td>\n",
       "      <td>NaN</td>\n",
       "      <td>NaN</td>\n",
       "      <td>NaN</td>\n",
       "    </tr>\n",
       "    <tr>\n",
       "      <th>2020-01-06</th>\n",
       "      <td>55600</td>\n",
       "      <td>54600</td>\n",
       "      <td>54900</td>\n",
       "      <td>55500</td>\n",
       "      <td>10278951</td>\n",
       "      <td>51522.757812</td>\n",
       "      <td>NaN</td>\n",
       "      <td>NaN</td>\n",
       "      <td>NaN</td>\n",
       "      <td>NaN</td>\n",
       "      <td>NaN</td>\n",
       "    </tr>\n",
       "    <tr>\n",
       "      <th>2020-01-07</th>\n",
       "      <td>56400</td>\n",
       "      <td>55600</td>\n",
       "      <td>55700</td>\n",
       "      <td>55800</td>\n",
       "      <td>10009778</td>\n",
       "      <td>51801.261719</td>\n",
       "      <td>NaN</td>\n",
       "      <td>NaN</td>\n",
       "      <td>NaN</td>\n",
       "      <td>NaN</td>\n",
       "      <td>NaN</td>\n",
       "    </tr>\n",
       "    <tr>\n",
       "      <th>2020-01-08</th>\n",
       "      <td>57400</td>\n",
       "      <td>55900</td>\n",
       "      <td>56200</td>\n",
       "      <td>56800</td>\n",
       "      <td>23501171</td>\n",
       "      <td>52729.593750</td>\n",
       "      <td>55760.0</td>\n",
       "      <td>55760.0</td>\n",
       "      <td>56867.0682</td>\n",
       "      <td>55760.0</td>\n",
       "      <td>54652.9318</td>\n",
       "    </tr>\n",
       "  </tbody>\n",
       "</table>\n",
       "</div>"
      ],
      "text/plain": [
       "             High    Low   Open  Close    Volume     Adj Close      ma5  \\\n",
       "Date                                                                      \n",
       "2020-01-02  56000  55000  55500  55200  12993228  51244.253906      NaN   \n",
       "2020-01-03  56600  54900  56000  55500  15422255  51522.757812      NaN   \n",
       "2020-01-06  55600  54600  54900  55500  10278951  51522.757812      NaN   \n",
       "2020-01-07  56400  55600  55700  55800  10009778  51801.261719      NaN   \n",
       "2020-01-08  57400  55900  56200  56800  23501171  52729.593750  55760.0   \n",
       "\n",
       "             tb-ma5   upperband  middleband   lowerband  \n",
       "Date                                                     \n",
       "2020-01-02      NaN         NaN         NaN         NaN  \n",
       "2020-01-03      NaN         NaN         NaN         NaN  \n",
       "2020-01-06      NaN         NaN         NaN         NaN  \n",
       "2020-01-07      NaN         NaN         NaN         NaN  \n",
       "2020-01-08  55760.0  56867.0682     55760.0  54652.9318  "
      ]
     },
     "execution_count": 33,
     "metadata": {},
     "output_type": "execute_result"
    }
   ],
   "source": [
    "df[\"upperband\"], df[\"middleband\"], df[\"lowerband\"] = talib.BBANDS(df[\"Close\"], timeperiod=5)\n",
    "df.head()"
   ]
  },
  {
   "cell_type": "code",
   "execution_count": 42,
   "id": "c391b8e4-4e15-4910-81e8-dc44beb45a4f",
   "metadata": {},
   "outputs": [
    {
     "data": {
      "image/png": "[encoded data removed]",
      "text/plain": [
       "<Figure size 1152x360 with 1 Axes>"
      ]
     },
     "metadata": {
      "needs_background": "light"
     },
     "output_type": "display_data"
    }
   ],
   "source": [
    "import matplotlib.pyplot as plt\n",
    "plt.figure(figsize=(16,5))\n",
    "plt.plot(df[\"upperband\"] , label=\"upper\")\n",
    "plt.plot(df[\"middleband\"], label=\"20ma\")\n",
    "plt.plot(df[\"lowerband\"], label=\"lower\")\n",
    "plt.fill_between(df.index,df[\"upperband\"], df[\"lowerband\"], alpha=0.5)\n",
    "plt.legend()\n",
    "plt.grid()\n",
    "plt.show()\n"
   ]
  },
  {
   "cell_type": "code",
   "execution_count": 46,
   "id": "a6da8024-e38d-49cd-9ddf-9e0c93997f2d",
   "metadata": {},
   "outputs": [
    {
     "data": {
      "text/plain": [
       "<Figure size 1600x500 with 0 Axes>"
      ]
     },
     "metadata": {},
     "output_type": "display_data"
    },
    {
     "data": {
      "image/png": "[encoded data removed]",
      "text/plain": [
       "<Figure size 1600x1034 with 4 Axes>"
      ]
     },
     "metadata": {},
     "output_type": "display_data"
    }
   ],
   "source": [
    "import tkinter as tk\n",
    "import matplotlib as matplotlib\n",
    "matplotlib.use(\"TkAgg\")\n",
    "from matplotlib.backends.backend_tkagg import FigureCanvasTkAgg\n",
    "import mplfinance as mpf\n",
    "\n",
    "plt.figure(figsize=(16,5))\n",
    "\n",
    "mpfBB = mpf.make_addplot(df[[\"upperband\", \"lowerband\"]])\n",
    "addedPlots = [mpfBB]\n",
    "\n",
    "# Generate the plots and and return the figure\n",
    "fig, _ = mpf.plot(df, type='candlestick', volume=True, returnfig=True, addplot=addedPlots, figscale=2.0)\n",
    "\n",
    "# Add a canvas containing the figure\n",
    "top = tk.Toplevel()\n",
    "canvas = FigureCanvasTkAgg(fig, top)\n",
    "\n",
    "# Draw it\n",
    "canvas.draw()\n",
    "canvas.get_tk_widget().pack(side=tk.BOTTOM, fill=tk.BOTH, expand=True)"
   ]
  },
  {
   "cell_type": "code",
   "execution_count": null,
   "id": "59f780ce-4d93-4acd-929d-50760a018b81",
   "metadata": {},
   "outputs": [],
   "source": [
    "# !pip install mplfinance"
   ]
  },
  {
   "cell_type": "code",
   "execution_count": null,
   "id": "f883b78c-fc20-4192-9ae2-4a174bfee31a",
   "metadata": {},
   "outputs": [],
   "source": [
    "# candlestick2_ohlc(df.index, df['opens', 'highs', 'lows','closes')"
   ]
  },
  {
   "cell_type": "markdown",
   "id": "95c9529b-2915-4858-a4e0-8943dcbb84dd",
   "metadata": {
    "tags": []
   },
   "source": [
    "# XXXXXXXXXXXXXXXXXXXXXXXXXXXXXXX finance_datareader\n",
    "* 한국주식 가격, 미국주식 가격, 지수, 환율, 암호화폐 가격, 종목 리스팅 등 \n",
    "*FinanceDataReader는 pandas-datareader 를 대체하기 보다 보완하기 위한 목적으로 만들어졌다.\n",
    "* 거래소별 전체 종목코드: KRX (KOSPI, KODAQ, KONEX), NASDAQ, NYSE, AMEX, S&P 500\n",
    "* https://financedata.github.io/posts/finance-data-reader-users-guide.html"
   ]
  },
  {
   "cell_type": "code",
   "execution_count": null,
   "id": "ce05923a-1d84-4662-8c7f-9d94db48a4af",
   "metadata": {},
   "outputs": [],
   "source": [
    "#!pip install -U finance-datareader"
   ]
  },
  {
   "cell_type": "code",
   "execution_count": null,
   "id": "26becfd0-8fa2-410f-98e8-6243cc29bd56",
   "metadata": {},
   "outputs": [],
   "source": [
    "import FinanceDataReader as fdr"
   ]
  },
  {
   "cell_type": "markdown",
   "id": "b89367e4-0410-4368-9975-0c2bb54c1a8b",
   "metadata": {},
   "source": [
    "<pre>\n",
    "한국심볼\t거래소\n",
    "KRX\tKRX 종목 전체\n",
    "KOSPI\tKOSPI 종목\n",
    "KOSDAQ\tKOSDAQ 종목\n",
    "KONEX\tKONEX 종목\n",
    "\n",
    "미국심볼\t거래소\n",
    "NASDAQ\t나스닥 종목\n",
    "NYSE\t뉴욕 증권거래소 종목\n",
    "AMEX\tAMEX 종목\n",
    "SP500\tS&P 500 종목\n",
    "\n",
    "한국지수심볼\t설명\n",
    "KS11\tKOSPI 지수\n",
    "KQ11\tKOSDAQ 지수\n",
    "KS50\tKOSPI 50 지수\n",
    "KS100\tKOSPI 100\n",
    "KRX100\tKRX 100\n",
    "KS200\t코스피 200\n",
    "\n",
    "미국지수심볼\t설명\n",
    "DJI\t다우존스 지수\n",
    "IXIC\t나스닥 지수\n",
    "US500\tS&P 500 지수\n",
    "VIX\tS&P 500 VIX\n",
    "\n",
    "국제지수심볼\t설명\n",
    "JP225\t닛케이 225 선물\n",
    "STOXX50E\tEuro Stoxx 50\n",
    "CSI300\tCSI 300 (중국)\n",
    "HSI\t항셍 (홍콩)\n",
    "FTSE\t영국 FTSE\n",
    "DAX\t독일 DAX 30\n",
    "CAC\t프랑스 CAC 40"
   ]
  },
  {
   "cell_type": "code",
   "execution_count": null,
   "id": "1bcbd807-98f2-44b6-97d4-98ac4e4f3ee8",
   "metadata": {},
   "outputs": [],
   "source": [
    "df_krx = fdr.StockListing('NASDAQ')\n",
    "df_krx.head()"
   ]
  },
  {
   "cell_type": "code",
   "execution_count": null,
   "id": "45047d2b-242f-458e-8298-e2703f572148",
   "metadata": {},
   "outputs": [],
   "source": [
    "df_krx = fdr.StockListing('KOSPI')\n",
    "df_krx.head()"
   ]
  },
  {
   "cell_type": "code",
   "execution_count": null,
   "id": "b315bfbb-33aa-48d7-8ee7-acce9e887ddd",
   "metadata": {},
   "outputs": [],
   "source": [
    "# # 애플(AAPL), 2018-01-01 ~ 2018-03-30\n",
    "# # df = fdr.DataReader('AAPL', '2018')\n",
    "# df = fdr.DataReader('GOOG', '2018-01-01', '2018-03-30')\n",
    "# # df.tail()"
   ]
  },
  {
   "cell_type": "markdown",
   "id": "aefc46f2-b8a4-4eca-be82-1ede13dad403",
   "metadata": {},
   "source": [
    "## 환율\n",
    "<pre>\n",
    "심볼\t설명\n",
    "USD/KRW\t달러당 원화 환율\n",
    "USD/EUR\t달러당 유로화 환율\n",
    "USD/JPY\t달러당 엔화 환율\n",
    "CNY/KRW\t위엔화 원화 환율\n",
    "EUR/USD\t유로화 달러 환율\n",
    "USD/JPY\t달러 엔화 환율\n",
    "JPY/KRW\t엔화 원화 환율\n",
    "AUD/USD\t오스트레일리아 달러 환율\n",
    "EUR/JPY\t유로화 엔화 환율\n",
    "USD/RUB\t달러 루블화"
   ]
  },
  {
   "cell_type": "markdown",
   "id": "e65b80f6-b416-49fb-b593-2e65cf3e69e9",
   "metadata": {},
   "source": [
    "## 암호화폐\n",
    "<pre>\n",
    "암호화폐 가격 (KRW)\n",
    "암호 화폐 원화 가격 (빗썸)\n",
    "\n",
    "심볼\t설명\n",
    "BTC/KRW\t비트코인 원화 가격\n",
    "ETH/KRW\t이더리움 원화 가격\n",
    "XRP/KRW\t리플 원화 가격\n",
    "BCH/KRW\t비트코인 캐시 원화 가격\n",
    "EOS/KRW\t이오스 원화 가격\n",
    "LTC/KRW\t라이트 코인 원화 가격\n",
    "XLM/KRW\t스텔라 원화 가격\n",
    "암호화폐 가격 (UDS)\n",
    "암호 화폐 달러화 가격 (Bitfinex)\n",
    "\n",
    "심볼\t설명\n",
    "BTC/USD\t비트코인 달러 가격\n",
    "ETH/USD\t이더리움 달러 가격\n",
    "XRP/USD\t리플 달러 가격\n",
    "BCH/USD\t비트코인 캐시 달러 가격\n",
    "EOS/USD\t이오스 달러 가격\n",
    "LTC/USD\t라이트 코인 달러 가격\n",
    "XLM/USD\t스텔라 달러 가격\n",
    "암호화폐 선물\n",
    "심볼\t설명\n",
    "BTC\t비트코인 CME 선물\n"
   ]
  }
 ],
 "metadata": {
  "kernelspec": {
   "display_name": "Python 3 (ipykernel)",
   "language": "python",
   "name": "python3"
  },
  "language_info": {
   "codemirror_mode": {
    "name": "ipython",
    "version": 3
   },
   "file_extension": ".py",
   "mimetype": "text/x-python",
   "name": "python",
   "nbconvert_exporter": "python",
   "pygments_lexer": "ipython3",
   "version": "3.8.8"
  },
  "toc-autonumbering": true
 },
 "nbformat": 4,
 "nbformat_minor": 5
}
